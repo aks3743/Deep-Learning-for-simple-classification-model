{
  "nbformat": 4,
  "nbformat_minor": 0,
  "metadata": {
    "colab": {
      "name": "DL_assignment_Q2.ipynb",
      "provenance": [],
      "collapsed_sections": []
    },
    "kernelspec": {
      "name": "python3",
      "display_name": "Python 3"
    },
    "language_info": {
      "name": "python"
    }
  },
  "cells": [
    {
      "cell_type": "markdown",
      "source": [
        "# Group - 189 DL Assignment-1 (Q2)\n",
        "* Abhijith K.S         -  2020fc04193\n",
        "* Keesari Shravya      -  2020fc04582\n",
        "* Pranesh V            -  2020fc04961\n"
      ],
      "metadata": {
        "id": "tWMc0lKmSSbM"
      }
    },
    {
      "cell_type": "code",
      "execution_count": 1,
      "metadata": {
        "id": "4S6uuOxWUuyX"
      },
      "outputs": [],
      "source": [
        "import pandas as pd\n",
        "\n",
        "from sklearn import preprocessing\n",
        "from sklearn.model_selection import train_test_split\n",
        "\n",
        "import tensorflow as tf"
      ]
    },
    {
      "cell_type": "markdown",
      "source": [
        "# 1. Load the attached csv file in python. Each row consists of feature 1, feature 2, class label"
      ],
      "metadata": {
        "id": "l7kbc3TBl4Mr"
      }
    },
    {
      "cell_type": "code",
      "source": [
        "df=pd.read_csv(\"data1_0.25.csv\", header=None)\n",
        "df"
      ],
      "metadata": {
        "colab": {
          "base_uri": "https://localhost:8080/",
          "height": 424
        },
        "id": "1q-gx08QvBII",
        "outputId": "0af2aa41-f38c-4850-8a05-8b65474d1fd1"
      },
      "execution_count": 2,
      "outputs": [
        {
          "output_type": "execute_result",
          "data": {
            "text/html": [
              "\n",
              "  <div id=\"df-0294e8e1-93e8-406b-9de8-d88fc1366297\">\n",
              "    <div class=\"colab-df-container\">\n",
              "      <div>\n",
              "<style scoped>\n",
              "    .dataframe tbody tr th:only-of-type {\n",
              "        vertical-align: middle;\n",
              "    }\n",
              "\n",
              "    .dataframe tbody tr th {\n",
              "        vertical-align: top;\n",
              "    }\n",
              "\n",
              "    .dataframe thead th {\n",
              "        text-align: right;\n",
              "    }\n",
              "</style>\n",
              "<table border=\"1\" class=\"dataframe\">\n",
              "  <thead>\n",
              "    <tr style=\"text-align: right;\">\n",
              "      <th></th>\n",
              "      <th>0</th>\n",
              "      <th>1</th>\n",
              "      <th>2</th>\n",
              "    </tr>\n",
              "  </thead>\n",
              "  <tbody>\n",
              "    <tr>\n",
              "      <th>0</th>\n",
              "      <td>0.702478</td>\n",
              "      <td>0.127961</td>\n",
              "      <td>0</td>\n",
              "    </tr>\n",
              "    <tr>\n",
              "      <th>1</th>\n",
              "      <td>0.640130</td>\n",
              "      <td>-0.281620</td>\n",
              "      <td>0</td>\n",
              "    </tr>\n",
              "    <tr>\n",
              "      <th>2</th>\n",
              "      <td>-0.429982</td>\n",
              "      <td>-0.581259</td>\n",
              "      <td>0</td>\n",
              "    </tr>\n",
              "    <tr>\n",
              "      <th>3</th>\n",
              "      <td>0.046000</td>\n",
              "      <td>-0.181767</td>\n",
              "      <td>0</td>\n",
              "    </tr>\n",
              "    <tr>\n",
              "      <th>4</th>\n",
              "      <td>-0.149910</td>\n",
              "      <td>-0.645058</td>\n",
              "      <td>0</td>\n",
              "    </tr>\n",
              "    <tr>\n",
              "      <th>...</th>\n",
              "      <td>...</td>\n",
              "      <td>...</td>\n",
              "      <td>...</td>\n",
              "    </tr>\n",
              "    <tr>\n",
              "      <th>760</th>\n",
              "      <td>-0.474379</td>\n",
              "      <td>0.784835</td>\n",
              "      <td>1</td>\n",
              "    </tr>\n",
              "    <tr>\n",
              "      <th>761</th>\n",
              "      <td>0.745290</td>\n",
              "      <td>-0.210026</td>\n",
              "      <td>1</td>\n",
              "    </tr>\n",
              "    <tr>\n",
              "      <th>762</th>\n",
              "      <td>0.715742</td>\n",
              "      <td>-0.590735</td>\n",
              "      <td>1</td>\n",
              "    </tr>\n",
              "    <tr>\n",
              "      <th>763</th>\n",
              "      <td>-0.150463</td>\n",
              "      <td>0.850325</td>\n",
              "      <td>1</td>\n",
              "    </tr>\n",
              "    <tr>\n",
              "      <th>764</th>\n",
              "      <td>0.248667</td>\n",
              "      <td>0.218322</td>\n",
              "      <td>1</td>\n",
              "    </tr>\n",
              "  </tbody>\n",
              "</table>\n",
              "<p>765 rows × 3 columns</p>\n",
              "</div>\n",
              "      <button class=\"colab-df-convert\" onclick=\"convertToInteractive('df-0294e8e1-93e8-406b-9de8-d88fc1366297')\"\n",
              "              title=\"Convert this dataframe to an interactive table.\"\n",
              "              style=\"display:none;\">\n",
              "        \n",
              "  <svg xmlns=\"http://www.w3.org/2000/svg\" height=\"24px\"viewBox=\"0 0 24 24\"\n",
              "       width=\"24px\">\n",
              "    <path d=\"M0 0h24v24H0V0z\" fill=\"none\"/>\n",
              "    <path d=\"M18.56 5.44l.94 2.06.94-2.06 2.06-.94-2.06-.94-.94-2.06-.94 2.06-2.06.94zm-11 1L8.5 8.5l.94-2.06 2.06-.94-2.06-.94L8.5 2.5l-.94 2.06-2.06.94zm10 10l.94 2.06.94-2.06 2.06-.94-2.06-.94-.94-2.06-.94 2.06-2.06.94z\"/><path d=\"M17.41 7.96l-1.37-1.37c-.4-.4-.92-.59-1.43-.59-.52 0-1.04.2-1.43.59L10.3 9.45l-7.72 7.72c-.78.78-.78 2.05 0 2.83L4 21.41c.39.39.9.59 1.41.59.51 0 1.02-.2 1.41-.59l7.78-7.78 2.81-2.81c.8-.78.8-2.07 0-2.86zM5.41 20L4 18.59l7.72-7.72 1.47 1.35L5.41 20z\"/>\n",
              "  </svg>\n",
              "      </button>\n",
              "      \n",
              "  <style>\n",
              "    .colab-df-container {\n",
              "      display:flex;\n",
              "      flex-wrap:wrap;\n",
              "      gap: 12px;\n",
              "    }\n",
              "\n",
              "    .colab-df-convert {\n",
              "      background-color: #E8F0FE;\n",
              "      border: none;\n",
              "      border-radius: 50%;\n",
              "      cursor: pointer;\n",
              "      display: none;\n",
              "      fill: #1967D2;\n",
              "      height: 32px;\n",
              "      padding: 0 0 0 0;\n",
              "      width: 32px;\n",
              "    }\n",
              "\n",
              "    .colab-df-convert:hover {\n",
              "      background-color: #E2EBFA;\n",
              "      box-shadow: 0px 1px 2px rgba(60, 64, 67, 0.3), 0px 1px 3px 1px rgba(60, 64, 67, 0.15);\n",
              "      fill: #174EA6;\n",
              "    }\n",
              "\n",
              "    [theme=dark] .colab-df-convert {\n",
              "      background-color: #3B4455;\n",
              "      fill: #D2E3FC;\n",
              "    }\n",
              "\n",
              "    [theme=dark] .colab-df-convert:hover {\n",
              "      background-color: #434B5C;\n",
              "      box-shadow: 0px 1px 3px 1px rgba(0, 0, 0, 0.15);\n",
              "      filter: drop-shadow(0px 1px 2px rgba(0, 0, 0, 0.3));\n",
              "      fill: #FFFFFF;\n",
              "    }\n",
              "  </style>\n",
              "\n",
              "      <script>\n",
              "        const buttonEl =\n",
              "          document.querySelector('#df-0294e8e1-93e8-406b-9de8-d88fc1366297 button.colab-df-convert');\n",
              "        buttonEl.style.display =\n",
              "          google.colab.kernel.accessAllowed ? 'block' : 'none';\n",
              "\n",
              "        async function convertToInteractive(key) {\n",
              "          const element = document.querySelector('#df-0294e8e1-93e8-406b-9de8-d88fc1366297');\n",
              "          const dataTable =\n",
              "            await google.colab.kernel.invokeFunction('convertToInteractive',\n",
              "                                                     [key], {});\n",
              "          if (!dataTable) return;\n",
              "\n",
              "          const docLinkHtml = 'Like what you see? Visit the ' +\n",
              "            '<a target=\"_blank\" href=https://colab.research.google.com/notebooks/data_table.ipynb>data table notebook</a>'\n",
              "            + ' to learn more about interactive tables.';\n",
              "          element.innerHTML = '';\n",
              "          dataTable['output_type'] = 'display_data';\n",
              "          await google.colab.output.renderOutput(dataTable, element);\n",
              "          const docLink = document.createElement('div');\n",
              "          docLink.innerHTML = docLinkHtml;\n",
              "          element.appendChild(docLink);\n",
              "        }\n",
              "      </script>\n",
              "    </div>\n",
              "  </div>\n",
              "  "
            ],
            "text/plain": [
              "            0         1  2\n",
              "0    0.702478  0.127961  0\n",
              "1    0.640130 -0.281620  0\n",
              "2   -0.429982 -0.581259  0\n",
              "3    0.046000 -0.181767  0\n",
              "4   -0.149910 -0.645058  0\n",
              "..        ...       ... ..\n",
              "760 -0.474379  0.784835  1\n",
              "761  0.745290 -0.210026  1\n",
              "762  0.715742 -0.590735  1\n",
              "763 -0.150463  0.850325  1\n",
              "764  0.248667  0.218322  1\n",
              "\n",
              "[765 rows x 3 columns]"
            ]
          },
          "metadata": {},
          "execution_count": 2
        }
      ]
    },
    {
      "cell_type": "code",
      "source": [
        "df.rename(columns={0: \"Feature_1\", 1:\"Feature_2\", 2:\"Class\"}, inplace=True)\n",
        "df"
      ],
      "metadata": {
        "colab": {
          "base_uri": "https://localhost:8080/",
          "height": 424
        },
        "id": "FzgyUQp3vEgm",
        "outputId": "8c1a35dc-1ea8-4e8b-eeaf-68a8acbc3c5d"
      },
      "execution_count": 3,
      "outputs": [
        {
          "output_type": "execute_result",
          "data": {
            "text/html": [
              "\n",
              "  <div id=\"df-888725a6-c975-4789-86f2-8bb4643dfaf9\">\n",
              "    <div class=\"colab-df-container\">\n",
              "      <div>\n",
              "<style scoped>\n",
              "    .dataframe tbody tr th:only-of-type {\n",
              "        vertical-align: middle;\n",
              "    }\n",
              "\n",
              "    .dataframe tbody tr th {\n",
              "        vertical-align: top;\n",
              "    }\n",
              "\n",
              "    .dataframe thead th {\n",
              "        text-align: right;\n",
              "    }\n",
              "</style>\n",
              "<table border=\"1\" class=\"dataframe\">\n",
              "  <thead>\n",
              "    <tr style=\"text-align: right;\">\n",
              "      <th></th>\n",
              "      <th>Feature_1</th>\n",
              "      <th>Feature_2</th>\n",
              "      <th>Class</th>\n",
              "    </tr>\n",
              "  </thead>\n",
              "  <tbody>\n",
              "    <tr>\n",
              "      <th>0</th>\n",
              "      <td>0.702478</td>\n",
              "      <td>0.127961</td>\n",
              "      <td>0</td>\n",
              "    </tr>\n",
              "    <tr>\n",
              "      <th>1</th>\n",
              "      <td>0.640130</td>\n",
              "      <td>-0.281620</td>\n",
              "      <td>0</td>\n",
              "    </tr>\n",
              "    <tr>\n",
              "      <th>2</th>\n",
              "      <td>-0.429982</td>\n",
              "      <td>-0.581259</td>\n",
              "      <td>0</td>\n",
              "    </tr>\n",
              "    <tr>\n",
              "      <th>3</th>\n",
              "      <td>0.046000</td>\n",
              "      <td>-0.181767</td>\n",
              "      <td>0</td>\n",
              "    </tr>\n",
              "    <tr>\n",
              "      <th>4</th>\n",
              "      <td>-0.149910</td>\n",
              "      <td>-0.645058</td>\n",
              "      <td>0</td>\n",
              "    </tr>\n",
              "    <tr>\n",
              "      <th>...</th>\n",
              "      <td>...</td>\n",
              "      <td>...</td>\n",
              "      <td>...</td>\n",
              "    </tr>\n",
              "    <tr>\n",
              "      <th>760</th>\n",
              "      <td>-0.474379</td>\n",
              "      <td>0.784835</td>\n",
              "      <td>1</td>\n",
              "    </tr>\n",
              "    <tr>\n",
              "      <th>761</th>\n",
              "      <td>0.745290</td>\n",
              "      <td>-0.210026</td>\n",
              "      <td>1</td>\n",
              "    </tr>\n",
              "    <tr>\n",
              "      <th>762</th>\n",
              "      <td>0.715742</td>\n",
              "      <td>-0.590735</td>\n",
              "      <td>1</td>\n",
              "    </tr>\n",
              "    <tr>\n",
              "      <th>763</th>\n",
              "      <td>-0.150463</td>\n",
              "      <td>0.850325</td>\n",
              "      <td>1</td>\n",
              "    </tr>\n",
              "    <tr>\n",
              "      <th>764</th>\n",
              "      <td>0.248667</td>\n",
              "      <td>0.218322</td>\n",
              "      <td>1</td>\n",
              "    </tr>\n",
              "  </tbody>\n",
              "</table>\n",
              "<p>765 rows × 3 columns</p>\n",
              "</div>\n",
              "      <button class=\"colab-df-convert\" onclick=\"convertToInteractive('df-888725a6-c975-4789-86f2-8bb4643dfaf9')\"\n",
              "              title=\"Convert this dataframe to an interactive table.\"\n",
              "              style=\"display:none;\">\n",
              "        \n",
              "  <svg xmlns=\"http://www.w3.org/2000/svg\" height=\"24px\"viewBox=\"0 0 24 24\"\n",
              "       width=\"24px\">\n",
              "    <path d=\"M0 0h24v24H0V0z\" fill=\"none\"/>\n",
              "    <path d=\"M18.56 5.44l.94 2.06.94-2.06 2.06-.94-2.06-.94-.94-2.06-.94 2.06-2.06.94zm-11 1L8.5 8.5l.94-2.06 2.06-.94-2.06-.94L8.5 2.5l-.94 2.06-2.06.94zm10 10l.94 2.06.94-2.06 2.06-.94-2.06-.94-.94-2.06-.94 2.06-2.06.94z\"/><path d=\"M17.41 7.96l-1.37-1.37c-.4-.4-.92-.59-1.43-.59-.52 0-1.04.2-1.43.59L10.3 9.45l-7.72 7.72c-.78.78-.78 2.05 0 2.83L4 21.41c.39.39.9.59 1.41.59.51 0 1.02-.2 1.41-.59l7.78-7.78 2.81-2.81c.8-.78.8-2.07 0-2.86zM5.41 20L4 18.59l7.72-7.72 1.47 1.35L5.41 20z\"/>\n",
              "  </svg>\n",
              "      </button>\n",
              "      \n",
              "  <style>\n",
              "    .colab-df-container {\n",
              "      display:flex;\n",
              "      flex-wrap:wrap;\n",
              "      gap: 12px;\n",
              "    }\n",
              "\n",
              "    .colab-df-convert {\n",
              "      background-color: #E8F0FE;\n",
              "      border: none;\n",
              "      border-radius: 50%;\n",
              "      cursor: pointer;\n",
              "      display: none;\n",
              "      fill: #1967D2;\n",
              "      height: 32px;\n",
              "      padding: 0 0 0 0;\n",
              "      width: 32px;\n",
              "    }\n",
              "\n",
              "    .colab-df-convert:hover {\n",
              "      background-color: #E2EBFA;\n",
              "      box-shadow: 0px 1px 2px rgba(60, 64, 67, 0.3), 0px 1px 3px 1px rgba(60, 64, 67, 0.15);\n",
              "      fill: #174EA6;\n",
              "    }\n",
              "\n",
              "    [theme=dark] .colab-df-convert {\n",
              "      background-color: #3B4455;\n",
              "      fill: #D2E3FC;\n",
              "    }\n",
              "\n",
              "    [theme=dark] .colab-df-convert:hover {\n",
              "      background-color: #434B5C;\n",
              "      box-shadow: 0px 1px 3px 1px rgba(0, 0, 0, 0.15);\n",
              "      filter: drop-shadow(0px 1px 2px rgba(0, 0, 0, 0.3));\n",
              "      fill: #FFFFFF;\n",
              "    }\n",
              "  </style>\n",
              "\n",
              "      <script>\n",
              "        const buttonEl =\n",
              "          document.querySelector('#df-888725a6-c975-4789-86f2-8bb4643dfaf9 button.colab-df-convert');\n",
              "        buttonEl.style.display =\n",
              "          google.colab.kernel.accessAllowed ? 'block' : 'none';\n",
              "\n",
              "        async function convertToInteractive(key) {\n",
              "          const element = document.querySelector('#df-888725a6-c975-4789-86f2-8bb4643dfaf9');\n",
              "          const dataTable =\n",
              "            await google.colab.kernel.invokeFunction('convertToInteractive',\n",
              "                                                     [key], {});\n",
              "          if (!dataTable) return;\n",
              "\n",
              "          const docLinkHtml = 'Like what you see? Visit the ' +\n",
              "            '<a target=\"_blank\" href=https://colab.research.google.com/notebooks/data_table.ipynb>data table notebook</a>'\n",
              "            + ' to learn more about interactive tables.';\n",
              "          element.innerHTML = '';\n",
              "          dataTable['output_type'] = 'display_data';\n",
              "          await google.colab.output.renderOutput(dataTable, element);\n",
              "          const docLink = document.createElement('div');\n",
              "          docLink.innerHTML = docLinkHtml;\n",
              "          element.appendChild(docLink);\n",
              "        }\n",
              "      </script>\n",
              "    </div>\n",
              "  </div>\n",
              "  "
            ],
            "text/plain": [
              "     Feature_1  Feature_2  Class\n",
              "0     0.702478   0.127961      0\n",
              "1     0.640130  -0.281620      0\n",
              "2    -0.429982  -0.581259      0\n",
              "3     0.046000  -0.181767      0\n",
              "4    -0.149910  -0.645058      0\n",
              "..         ...        ...    ...\n",
              "760  -0.474379   0.784835      1\n",
              "761   0.745290  -0.210026      1\n",
              "762   0.715742  -0.590735      1\n",
              "763  -0.150463   0.850325      1\n",
              "764   0.248667   0.218322      1\n",
              "\n",
              "[765 rows x 3 columns]"
            ]
          },
          "metadata": {},
          "execution_count": 3
        }
      ]
    },
    {
      "cell_type": "code",
      "source": [
        "df[\"Class\"].unique()"
      ],
      "metadata": {
        "colab": {
          "base_uri": "https://localhost:8080/"
        },
        "id": "O1kZkaJv4J3r",
        "outputId": "72e324e1-cec2-4b66-dbbb-0107e5e769bd"
      },
      "execution_count": 4,
      "outputs": [
        {
          "output_type": "execute_result",
          "data": {
            "text/plain": [
              "array([0, 1])"
            ]
          },
          "metadata": {},
          "execution_count": 4
        }
      ]
    },
    {
      "cell_type": "code",
      "source": [
        "data=df.values\n",
        "data"
      ],
      "metadata": {
        "colab": {
          "base_uri": "https://localhost:8080/"
        },
        "id": "atXFISVOv-Ad",
        "outputId": "b1b99919-26e6-4667-a819-88137a4afe87"
      },
      "execution_count": 5,
      "outputs": [
        {
          "output_type": "execute_result",
          "data": {
            "text/plain": [
              "array([[ 0.70247802,  0.12796062,  0.        ],\n",
              "       [ 0.64013009, -0.28161997,  0.        ],\n",
              "       [-0.42998201, -0.58125879,  0.        ],\n",
              "       ...,\n",
              "       [ 0.71574244, -0.59073507,  1.        ],\n",
              "       [-0.15046301,  0.85032456,  1.        ],\n",
              "       [ 0.2486673 ,  0.21832184,  1.        ]])"
            ]
          },
          "metadata": {},
          "execution_count": 5
        }
      ]
    },
    {
      "cell_type": "code",
      "source": [
        "data_feat=data[:,0:2]\n",
        "data_feat"
      ],
      "metadata": {
        "colab": {
          "base_uri": "https://localhost:8080/"
        },
        "id": "fKwRj2qPwR_4",
        "outputId": "ba8d5a90-fe83-4056-bab5-0f5d7dc64426"
      },
      "execution_count": 6,
      "outputs": [
        {
          "output_type": "execute_result",
          "data": {
            "text/plain": [
              "array([[ 0.70247802,  0.12796062],\n",
              "       [ 0.64013009, -0.28161997],\n",
              "       [-0.42998201, -0.58125879],\n",
              "       ...,\n",
              "       [ 0.71574244, -0.59073507],\n",
              "       [-0.15046301,  0.85032456],\n",
              "       [ 0.2486673 ,  0.21832184]])"
            ]
          },
          "metadata": {},
          "execution_count": 6
        }
      ]
    },
    {
      "cell_type": "code",
      "source": [
        "data_class=data[:,2]\n",
        "data_class"
      ],
      "metadata": {
        "colab": {
          "base_uri": "https://localhost:8080/"
        },
        "id": "pKI1z8dhwgQE",
        "outputId": "750642fc-bd9a-41c6-91fc-1a38a55acd78"
      },
      "execution_count": 7,
      "outputs": [
        {
          "output_type": "execute_result",
          "data": {
            "text/plain": [
              "array([0., 0., 0., 0., 0., 0., 0., 0., 0., 0., 0., 0., 0., 0., 0., 0., 0.,\n",
              "       0., 0., 0., 0., 0., 0., 0., 0., 0., 0., 0., 0., 0., 0., 0., 0., 0.,\n",
              "       0., 0., 0., 0., 0., 0., 0., 0., 0., 0., 0., 0., 0., 0., 0., 0., 0.,\n",
              "       0., 0., 0., 0., 0., 0., 0., 0., 0., 0., 0., 0., 0., 0., 0., 0., 0.,\n",
              "       0., 0., 0., 0., 0., 0., 0., 0., 0., 0., 0., 0., 0., 0., 0., 0., 0.,\n",
              "       0., 0., 0., 0., 0., 0., 0., 0., 0., 0., 0., 0., 0., 0., 0., 0., 0.,\n",
              "       0., 0., 0., 0., 0., 0., 0., 0., 0., 0., 0., 0., 0., 0., 0., 0., 0.,\n",
              "       0., 0., 0., 0., 0., 0., 0., 0., 0., 0., 0., 0., 0., 0., 0., 0., 0.,\n",
              "       0., 0., 0., 0., 0., 0., 0., 0., 0., 0., 0., 0., 0., 0., 0., 0., 0.,\n",
              "       0., 0., 0., 0., 0., 0., 0., 0., 0., 0., 0., 0., 0., 0., 0., 0., 0.,\n",
              "       0., 0., 0., 0., 0., 0., 0., 0., 0., 0., 0., 0., 0., 0., 0., 0., 0.,\n",
              "       0., 0., 0., 0., 0., 0., 0., 0., 0., 0., 0., 0., 0., 0., 0., 0., 0.,\n",
              "       0., 0., 0., 0., 0., 0., 0., 0., 0., 0., 0., 0., 0., 0., 0., 0., 0.,\n",
              "       0., 0., 0., 0., 0., 0., 0., 0., 0., 0., 0., 0., 0., 0., 0., 0., 0.,\n",
              "       0., 0., 0., 0., 0., 0., 0., 0., 0., 0., 0., 0., 0., 0., 0., 0., 0.,\n",
              "       0., 0., 0., 0., 0., 0., 0., 0., 0., 0., 0., 0., 0., 0., 0., 0., 0.,\n",
              "       0., 0., 0., 0., 0., 0., 0., 0., 0., 0., 0., 0., 0., 0., 0., 0., 0.,\n",
              "       0., 0., 0., 0., 0., 0., 0., 0., 0., 0., 0., 0., 0., 0., 0., 0., 0.,\n",
              "       0., 0., 0., 0., 0., 0., 0., 0., 0., 0., 0., 0., 0., 0., 0., 0., 1.,\n",
              "       1., 1., 1., 1., 1., 1., 1., 1., 1., 1., 1., 1., 1., 1., 1., 1., 1.,\n",
              "       1., 1., 1., 1., 1., 1., 1., 1., 1., 1., 1., 1., 1., 1., 1., 1., 1.,\n",
              "       1., 1., 1., 1., 1., 1., 1., 1., 1., 1., 1., 1., 1., 1., 1., 1., 1.,\n",
              "       1., 1., 1., 1., 1., 1., 1., 1., 1., 1., 1., 1., 1., 1., 1., 1., 1.,\n",
              "       1., 1., 1., 1., 1., 1., 1., 1., 1., 1., 1., 1., 1., 1., 1., 1., 1.,\n",
              "       1., 1., 1., 1., 1., 1., 1., 1., 1., 1., 1., 1., 1., 1., 1., 1., 1.,\n",
              "       1., 1., 1., 1., 1., 1., 1., 1., 1., 1., 1., 1., 1., 1., 1., 1., 1.,\n",
              "       1., 1., 1., 1., 1., 1., 1., 1., 1., 1., 1., 1., 1., 1., 1., 1., 1.,\n",
              "       1., 1., 1., 1., 1., 1., 1., 1., 1., 1., 1., 1., 1., 1., 1., 1., 1.,\n",
              "       1., 1., 1., 1., 1., 1., 1., 1., 1., 1., 1., 1., 1., 1., 1., 1., 1.,\n",
              "       1., 1., 1., 1., 1., 1., 1., 1., 1., 1., 1., 1., 1., 1., 1., 1., 1.,\n",
              "       1., 1., 1., 1., 1., 1., 1., 1., 1., 1., 1., 1., 1., 1., 1., 1., 1.,\n",
              "       1., 1., 1., 1., 1., 1., 1., 1., 1., 1., 1., 1., 1., 1., 1., 1., 1.,\n",
              "       1., 1., 1., 1., 1., 1., 1., 1., 1., 1., 1., 1., 1., 1., 1., 1., 1.,\n",
              "       1., 1., 1., 1., 1., 1., 1., 1., 1., 1., 1., 1., 1., 1., 1., 1., 1.,\n",
              "       1., 1., 1., 1., 1., 1., 1., 1., 1., 1., 1., 1., 1., 1., 1., 1., 1.,\n",
              "       1., 1., 1., 1., 1., 1., 1., 1., 1., 1., 1., 1., 1., 1., 1., 1., 1.,\n",
              "       1., 1., 1., 1., 1., 1., 1., 1., 1., 1., 1., 1., 1., 1., 1., 1., 1.,\n",
              "       1., 1., 1., 1., 1., 1., 1., 1., 1., 1., 1., 1., 1., 1., 1., 1., 1.,\n",
              "       1., 1., 1., 1., 1., 1., 1., 1., 1., 1., 1., 1., 1., 1., 1., 1., 1.,\n",
              "       1., 1., 1., 1., 1., 1., 1., 1., 1., 1., 1., 1., 1., 1., 1., 1., 1.,\n",
              "       1., 1., 1., 1., 1., 1., 1., 1., 1., 1., 1., 1., 1., 1., 1., 1., 1.,\n",
              "       1., 1., 1., 1., 1., 1., 1., 1., 1., 1., 1., 1., 1., 1., 1., 1., 1.,\n",
              "       1., 1., 1., 1., 1., 1., 1., 1., 1., 1., 1., 1., 1., 1., 1., 1., 1.,\n",
              "       1., 1., 1., 1., 1., 1., 1., 1., 1., 1., 1., 1., 1., 1., 1., 1., 1.,\n",
              "       1., 1., 1., 1., 1., 1., 1., 1., 1., 1., 1., 1., 1., 1., 1., 1., 1.])"
            ]
          },
          "metadata": {},
          "execution_count": 7
        }
      ]
    },
    {
      "cell_type": "code",
      "source": [
        "X_train, X_rest, y_train, y_rest = train_test_split(data_feat, data_class, test_size = 0.3, random_state = 42)"
      ],
      "metadata": {
        "id": "T1dT4atRxbYv"
      },
      "execution_count": 8,
      "outputs": []
    },
    {
      "cell_type": "code",
      "source": [
        "X_val, X_test, y_val, y_test = train_test_split(X_rest, y_rest, test_size = 0.9, random_state = 61)"
      ],
      "metadata": {
        "id": "_jRYRe0EyyVy"
      },
      "execution_count": 9,
      "outputs": []
    },
    {
      "cell_type": "code",
      "source": [
        "print(\"X_train:\",X_train.shape, \",\" , \"X_val:\", X_val.shape, \",\" , \"X_test:\", X_test.shape)\n",
        "print(\"y_train:\",y_train.shape, \",\" , \"y_val:\", y_val.shape, \",\" , \"y_test:\", y_test.shape)"
      ],
      "metadata": {
        "colab": {
          "base_uri": "https://localhost:8080/"
        },
        "id": "GGIe4Ey-zdDU",
        "outputId": "0260b0ec-f0b9-4888-b2d8-375f53df96c3"
      },
      "execution_count": 10,
      "outputs": [
        {
          "output_type": "stream",
          "name": "stdout",
          "text": [
            "X_train: (535, 2) , X_val: (23, 2) , X_test: (207, 2)\n",
            "y_train: (535,) , y_val: (23,) , y_test: (207,)\n"
          ]
        }
      ]
    },
    {
      "cell_type": "markdown",
      "source": [
        "# 2. Train two single/double hidden layer deep networks by varying the number of hidden nodes (4, 8, 12, 16) in each layer"
      ],
      "metadata": {
        "id": "xA1AW5B1EMrE"
      }
    },
    {
      "cell_type": "markdown",
      "source": [
        "# Single Hidden Layer Deep network\n",
        "\n",
        "---\n",
        "\n"
      ],
      "metadata": {
        "id": "uUbektX2XmAX"
      }
    },
    {
      "cell_type": "markdown",
      "source": [
        "## 4 hidden nodes"
      ],
      "metadata": {
        "id": "rpm59lIzeoXU"
      }
    },
    {
      "cell_type": "code",
      "source": [
        "model1 = tf.keras.Sequential()\n",
        "\n",
        "model1.add(tf.keras.Input(shape=(2,)))\n",
        "model1.add(tf.keras.layers.Dense(4, activation='relu'))\n",
        "model1.add(tf.keras.layers.Dense(1, activation=\"sigmoid\"))\n",
        "\n",
        "model1.summary()"
      ],
      "metadata": {
        "id": "531BXNB0zkDw",
        "colab": {
          "base_uri": "https://localhost:8080/"
        },
        "outputId": "e0c3cef9-60a3-491b-8a89-5c0b58fe99b0"
      },
      "execution_count": 11,
      "outputs": [
        {
          "output_type": "stream",
          "name": "stdout",
          "text": [
            "Model: \"sequential\"\n",
            "_________________________________________________________________\n",
            " Layer (type)                Output Shape              Param #   \n",
            "=================================================================\n",
            " dense (Dense)               (None, 4)                 12        \n",
            "                                                                 \n",
            " dense_1 (Dense)             (None, 1)                 5         \n",
            "                                                                 \n",
            "=================================================================\n",
            "Total params: 17\n",
            "Trainable params: 17\n",
            "Non-trainable params: 0\n",
            "_________________________________________________________________\n"
          ]
        }
      ]
    },
    {
      "cell_type": "code",
      "source": [
        "# loss function\n",
        "loss_fn = tf.keras.losses.BinaryCrossentropy()\n",
        "\n",
        "# optimizer\n",
        "optimizer = tf.keras.optimizers.Adam(0.003)\n",
        "model1.compile(optimizer=optimizer,\n",
        "              loss=loss_fn,\n",
        "              metrics=['accuracy'],\n",
        "              )"
      ],
      "metadata": {
        "id": "ZDVRgSCzWm6x"
      },
      "execution_count": 12,
      "outputs": []
    },
    {
      "cell_type": "code",
      "source": [
        "history = model1.fit(X_train,y_train,batch_size=16,\n",
        "                epochs=15,\n",
        "                validation_data=(X_test,y_test),\n",
        "                verbose=True)"
      ],
      "metadata": {
        "colab": {
          "base_uri": "https://localhost:8080/"
        },
        "id": "TJerRPH5Wm4H",
        "outputId": "7a7638db-04ea-48fb-f4a4-3f922c9fce63"
      },
      "execution_count": 13,
      "outputs": [
        {
          "output_type": "stream",
          "name": "stdout",
          "text": [
            "Epoch 1/15\n",
            "34/34 [==============================] - 1s 8ms/step - loss: 0.6959 - accuracy: 0.4991 - val_loss: 0.7026 - val_accuracy: 0.4686\n",
            "Epoch 2/15\n",
            "34/34 [==============================] - 0s 2ms/step - loss: 0.6823 - accuracy: 0.5290 - val_loss: 0.6970 - val_accuracy: 0.4879\n",
            "Epoch 3/15\n",
            "34/34 [==============================] - 0s 2ms/step - loss: 0.6760 - accuracy: 0.5140 - val_loss: 0.6954 - val_accuracy: 0.4976\n",
            "Epoch 4/15\n",
            "34/34 [==============================] - 0s 3ms/step - loss: 0.6733 - accuracy: 0.5402 - val_loss: 0.6932 - val_accuracy: 0.5604\n",
            "Epoch 5/15\n",
            "34/34 [==============================] - 0s 3ms/step - loss: 0.6712 - accuracy: 0.5757 - val_loss: 0.6915 - val_accuracy: 0.5749\n",
            "Epoch 6/15\n",
            "34/34 [==============================] - 0s 5ms/step - loss: 0.6689 - accuracy: 0.5832 - val_loss: 0.6880 - val_accuracy: 0.5749\n",
            "Epoch 7/15\n",
            "34/34 [==============================] - 0s 8ms/step - loss: 0.6662 - accuracy: 0.5832 - val_loss: 0.6868 - val_accuracy: 0.5749\n",
            "Epoch 8/15\n",
            "34/34 [==============================] - 0s 4ms/step - loss: 0.6658 - accuracy: 0.5832 - val_loss: 0.6867 - val_accuracy: 0.5749\n",
            "Epoch 9/15\n",
            "34/34 [==============================] - 0s 5ms/step - loss: 0.6652 - accuracy: 0.5832 - val_loss: 0.6864 - val_accuracy: 0.5749\n",
            "Epoch 10/15\n",
            "34/34 [==============================] - 0s 5ms/step - loss: 0.6649 - accuracy: 0.5832 - val_loss: 0.6857 - val_accuracy: 0.5749\n",
            "Epoch 11/15\n",
            "34/34 [==============================] - 0s 5ms/step - loss: 0.6643 - accuracy: 0.5832 - val_loss: 0.6863 - val_accuracy: 0.5749\n",
            "Epoch 12/15\n",
            "34/34 [==============================] - 0s 4ms/step - loss: 0.6640 - accuracy: 0.5832 - val_loss: 0.6861 - val_accuracy: 0.5749\n",
            "Epoch 13/15\n",
            "34/34 [==============================] - 0s 6ms/step - loss: 0.6637 - accuracy: 0.5832 - val_loss: 0.6851 - val_accuracy: 0.5749\n",
            "Epoch 14/15\n",
            "34/34 [==============================] - 0s 6ms/step - loss: 0.6634 - accuracy: 0.5832 - val_loss: 0.6847 - val_accuracy: 0.5749\n",
            "Epoch 15/15\n",
            "34/34 [==============================] - 0s 6ms/step - loss: 0.6630 - accuracy: 0.5832 - val_loss: 0.6855 - val_accuracy: 0.5749\n"
          ]
        }
      ]
    },
    {
      "cell_type": "code",
      "source": [
        "results = model1.evaluate(X_val,y_val, verbose=1)\n",
        "\n",
        "for name, value in zip(model1.metrics_names, results):\n",
        "  print(\"%s: %.3f\" % (name, value))"
      ],
      "metadata": {
        "colab": {
          "base_uri": "https://localhost:8080/"
        },
        "id": "LiGzqrajXGN9",
        "outputId": "a2563b7b-1b73-43d2-c1b1-f4b3f3cb1bc4"
      },
      "execution_count": 14,
      "outputs": [
        {
          "output_type": "stream",
          "name": "stdout",
          "text": [
            "1/1 [==============================] - 0s 33ms/step - loss: 0.6869 - accuracy: 0.5217\n",
            "loss: 0.687\n",
            "accuracy: 0.522\n"
          ]
        }
      ]
    },
    {
      "cell_type": "markdown",
      "source": [
        "## Use appropriate learning rate, activation, and loss functions and also mention the reason for choosing the same.\n",
        "\n",
        "*   Applied a learning rate of 0.003 (If the learning rate is high, then training may not converge or even diverge. Weight changes can be so big that the optimizer overshoots the minimum and makes the loss worse. So we have chosen between 0.001 and 0.01 and compared their accuracy performance. Furthermore very less learning rate takes longer time.)\n",
        "*   **ReLU activation function** is used for hidden layer since it is less susceptible to vanishing gradients that prevent deep models from being trained\n",
        "*   Since the given problem is logistic regression classification, we use a **Sigmoid function** in the output layer which takes a real value as input and outputs values in the range 0 to 1\n",
        "*   A **Binary Cross entropy loss function** is used since the class label is a  binary (0 or 1) classification\n",
        "\n",
        "\n",
        "## Report, compare, and explain the observed accuracy and minimum loss achieved.\n",
        "\n",
        "\n",
        "*   Loss achieved: 0.687\n",
        "*   Observed Accuracy: 0.522\n",
        "\n"
      ],
      "metadata": {
        "id": "ys639b7IcQVY"
      }
    },
    {
      "cell_type": "markdown",
      "source": [
        "## 8 hidden nodes"
      ],
      "metadata": {
        "id": "oh8OcDVqcQsI"
      }
    },
    {
      "cell_type": "code",
      "source": [
        "model2 = tf.keras.Sequential()\n",
        "\n",
        "model2.add(tf.keras.Input(shape=(2,)))\n",
        "model2.add(tf.keras.layers.Dense(8, activation='relu'))\n",
        "model2.add(tf.keras.layers.Dense(1, activation=\"sigmoid\"))\n",
        "\n",
        "model2.summary()"
      ],
      "metadata": {
        "colab": {
          "base_uri": "https://localhost:8080/"
        },
        "outputId": "245b7332-34c4-458e-ea46-fb846f07d09e",
        "id": "lWXrYA8McVFT"
      },
      "execution_count": 15,
      "outputs": [
        {
          "output_type": "stream",
          "name": "stdout",
          "text": [
            "Model: \"sequential_1\"\n",
            "_________________________________________________________________\n",
            " Layer (type)                Output Shape              Param #   \n",
            "=================================================================\n",
            " dense_2 (Dense)             (None, 8)                 24        \n",
            "                                                                 \n",
            " dense_3 (Dense)             (None, 1)                 9         \n",
            "                                                                 \n",
            "=================================================================\n",
            "Total params: 33\n",
            "Trainable params: 33\n",
            "Non-trainable params: 0\n",
            "_________________________________________________________________\n"
          ]
        }
      ]
    },
    {
      "cell_type": "code",
      "source": [
        "# loss function\n",
        "loss_fn = tf.keras.losses.BinaryCrossentropy()\n",
        "\n",
        "# optimizer\n",
        "optimizer = tf.keras.optimizers.Adam(0.003)\n",
        "model2.compile(optimizer=optimizer,\n",
        "              loss=loss_fn,\n",
        "              metrics=['accuracy'],\n",
        "              )"
      ],
      "metadata": {
        "id": "fudQ_fP7cVFU"
      },
      "execution_count": 16,
      "outputs": []
    },
    {
      "cell_type": "code",
      "source": [
        "history = model2.fit(X_train,y_train,batch_size=16,\n",
        "                epochs=15,\n",
        "                validation_data=(X_test,y_test),\n",
        "                verbose=True)"
      ],
      "metadata": {
        "colab": {
          "base_uri": "https://localhost:8080/"
        },
        "outputId": "76a4a7b7-1e2c-4134-c24d-0da5fcff932b",
        "id": "IV5wONC-cVFV"
      },
      "execution_count": 17,
      "outputs": [
        {
          "output_type": "stream",
          "name": "stdout",
          "text": [
            "Epoch 1/15\n",
            "34/34 [==============================] - 2s 17ms/step - loss: 0.6989 - accuracy: 0.4953 - val_loss: 0.6955 - val_accuracy: 0.4686\n",
            "Epoch 2/15\n",
            "34/34 [==============================] - 0s 5ms/step - loss: 0.6833 - accuracy: 0.5234 - val_loss: 0.6862 - val_accuracy: 0.5362\n",
            "Epoch 3/15\n",
            "34/34 [==============================] - 0s 5ms/step - loss: 0.6762 - accuracy: 0.5832 - val_loss: 0.6817 - val_accuracy: 0.5749\n",
            "Epoch 4/15\n",
            "34/34 [==============================] - 0s 7ms/step - loss: 0.6731 - accuracy: 0.5832 - val_loss: 0.6789 - val_accuracy: 0.5749\n",
            "Epoch 5/15\n",
            "34/34 [==============================] - 0s 4ms/step - loss: 0.6700 - accuracy: 0.5832 - val_loss: 0.6761 - val_accuracy: 0.5749\n",
            "Epoch 6/15\n",
            "34/34 [==============================] - 0s 7ms/step - loss: 0.6666 - accuracy: 0.5832 - val_loss: 0.6749 - val_accuracy: 0.5749\n",
            "Epoch 7/15\n",
            "34/34 [==============================] - 0s 6ms/step - loss: 0.6639 - accuracy: 0.5832 - val_loss: 0.6727 - val_accuracy: 0.5749\n",
            "Epoch 8/15\n",
            "34/34 [==============================] - 0s 7ms/step - loss: 0.6621 - accuracy: 0.5832 - val_loss: 0.6703 - val_accuracy: 0.5749\n",
            "Epoch 9/15\n",
            "34/34 [==============================] - 0s 4ms/step - loss: 0.6605 - accuracy: 0.5832 - val_loss: 0.6680 - val_accuracy: 0.5749\n",
            "Epoch 10/15\n",
            "34/34 [==============================] - 0s 7ms/step - loss: 0.6585 - accuracy: 0.5832 - val_loss: 0.6675 - val_accuracy: 0.5749\n",
            "Epoch 11/15\n",
            "34/34 [==============================] - 0s 4ms/step - loss: 0.6572 - accuracy: 0.5832 - val_loss: 0.6659 - val_accuracy: 0.5749\n",
            "Epoch 12/15\n",
            "34/34 [==============================] - 0s 8ms/step - loss: 0.6557 - accuracy: 0.5832 - val_loss: 0.6643 - val_accuracy: 0.5749\n",
            "Epoch 13/15\n",
            "34/34 [==============================] - 0s 5ms/step - loss: 0.6545 - accuracy: 0.5832 - val_loss: 0.6632 - val_accuracy: 0.5749\n",
            "Epoch 14/15\n",
            "34/34 [==============================] - 0s 6ms/step - loss: 0.6527 - accuracy: 0.5832 - val_loss: 0.6621 - val_accuracy: 0.5749\n",
            "Epoch 15/15\n",
            "34/34 [==============================] - 0s 7ms/step - loss: 0.6513 - accuracy: 0.5832 - val_loss: 0.6605 - val_accuracy: 0.5749\n"
          ]
        }
      ]
    },
    {
      "cell_type": "code",
      "source": [
        "results = model2.evaluate(X_val,y_val, verbose=1)\n",
        "\n",
        "for name, value in zip(model2.metrics_names, results):\n",
        "  print(\"%s: %.3f\" % (name, value))"
      ],
      "metadata": {
        "colab": {
          "base_uri": "https://localhost:8080/"
        },
        "outputId": "2db48bc7-a883-4fcf-88fa-5fcdce9efff1",
        "id": "cPjDHLA8cVFV"
      },
      "execution_count": 18,
      "outputs": [
        {
          "output_type": "stream",
          "name": "stdout",
          "text": [
            "1/1 [==============================] - 0s 53ms/step - loss: 0.6824 - accuracy: 0.5217\n",
            "loss: 0.682\n",
            "accuracy: 0.522\n"
          ]
        }
      ]
    },
    {
      "cell_type": "markdown",
      "source": [
        "## Use appropriate learning rate, activation, and loss functions and also mention the reason for choosing the same.\n",
        "\n",
        "*   Applied a learning rate of 0.003 (If the learning rate is high, then training may not converge or even diverge. Weight changes can be so big that the optimizer overshoots the minimum and makes the loss worse. So we have chosen between 0.001 and 0.01 and compared their accuracy performance. Furthermore very less learning rate takes longer time.)\n",
        "*   **ReLU activation function** is used for hidden layer since it is less susceptible to vanishing gradients that prevent deep models from being trained\n",
        "*   Since the given problem is logistic regression classification, we use a **Sigmoid function** in the output layer which takes a real value as input and outputs values in the range 0 to 1\n",
        "*   A **Binary Cross entropy loss function** is used since the class label is a  binary (0 or 1) classification\n",
        "\n",
        "\n",
        "## Report, compare, and explain the observed accuracy and minimum loss achieved.\n",
        "\n",
        "\n",
        "*   Loss achieved: 0.682\n",
        "*   Observed Accuracy: 0.522\n",
        "\n"
      ],
      "metadata": {
        "id": "cXckTO8we1za"
      }
    },
    {
      "cell_type": "markdown",
      "source": [
        "## 12 hidden nodes"
      ],
      "metadata": {
        "id": "fyuedpFycyW3"
      }
    },
    {
      "cell_type": "code",
      "source": [
        "model3 = tf.keras.Sequential()\n",
        "\n",
        "model3.add(tf.keras.Input(shape=(2,)))\n",
        "model3.add(tf.keras.layers.Dense(12, activation='relu'))\n",
        "model3.add(tf.keras.layers.Dense(1, activation=\"sigmoid\"))\n",
        "\n",
        "model3.summary()"
      ],
      "metadata": {
        "colab": {
          "base_uri": "https://localhost:8080/"
        },
        "outputId": "e8fa87cc-c3e2-43da-c72e-18bad1cc5f04",
        "id": "rt9FcfB6c0zo"
      },
      "execution_count": 19,
      "outputs": [
        {
          "output_type": "stream",
          "name": "stdout",
          "text": [
            "Model: \"sequential_2\"\n",
            "_________________________________________________________________\n",
            " Layer (type)                Output Shape              Param #   \n",
            "=================================================================\n",
            " dense_4 (Dense)             (None, 12)                36        \n",
            "                                                                 \n",
            " dense_5 (Dense)             (None, 1)                 13        \n",
            "                                                                 \n",
            "=================================================================\n",
            "Total params: 49\n",
            "Trainable params: 49\n",
            "Non-trainable params: 0\n",
            "_________________________________________________________________\n"
          ]
        }
      ]
    },
    {
      "cell_type": "code",
      "source": [
        "# loss function\n",
        "loss_fn = tf.keras.losses.BinaryCrossentropy()\n",
        "\n",
        "# optimizer\n",
        "optimizer = tf.keras.optimizers.Adam(0.03)\n",
        "model3.compile(optimizer=optimizer,\n",
        "              loss=loss_fn,\n",
        "              metrics=['accuracy'],\n",
        "              )"
      ],
      "metadata": {
        "id": "81zdzpO6c0zp"
      },
      "execution_count": 20,
      "outputs": []
    },
    {
      "cell_type": "code",
      "source": [
        "history = model3.fit(X_train,y_train,batch_size=16,\n",
        "                epochs=15,\n",
        "                validation_data=(X_test,y_test),\n",
        "                verbose=True)"
      ],
      "metadata": {
        "colab": {
          "base_uri": "https://localhost:8080/"
        },
        "outputId": "a83147c3-42e0-4b1a-d8b7-bca6dd545178",
        "id": "CdRFIC6Hc0zq"
      },
      "execution_count": 21,
      "outputs": [
        {
          "output_type": "stream",
          "name": "stdout",
          "text": [
            "Epoch 1/15\n",
            "34/34 [==============================] - 1s 11ms/step - loss: 0.6752 - accuracy: 0.5776 - val_loss: 0.6845 - val_accuracy: 0.5749\n",
            "Epoch 2/15\n",
            "34/34 [==============================] - 0s 5ms/step - loss: 0.6600 - accuracy: 0.5832 - val_loss: 0.6614 - val_accuracy: 0.5894\n",
            "Epoch 3/15\n",
            "34/34 [==============================] - 0s 8ms/step - loss: 0.6461 - accuracy: 0.5645 - val_loss: 0.6396 - val_accuracy: 0.5797\n",
            "Epoch 4/15\n",
            "34/34 [==============================] - 0s 9ms/step - loss: 0.6331 - accuracy: 0.5514 - val_loss: 0.6329 - val_accuracy: 0.5845\n",
            "Epoch 5/15\n",
            "34/34 [==============================] - 0s 7ms/step - loss: 0.6209 - accuracy: 0.5664 - val_loss: 0.6120 - val_accuracy: 0.5362\n",
            "Epoch 6/15\n",
            "34/34 [==============================] - 0s 9ms/step - loss: 0.6084 - accuracy: 0.5701 - val_loss: 0.6153 - val_accuracy: 0.5411\n",
            "Epoch 7/15\n",
            "34/34 [==============================] - 0s 9ms/step - loss: 0.5946 - accuracy: 0.5832 - val_loss: 0.6009 - val_accuracy: 0.6618\n",
            "Epoch 8/15\n",
            "34/34 [==============================] - 0s 7ms/step - loss: 0.5840 - accuracy: 0.5944 - val_loss: 0.5874 - val_accuracy: 0.6039\n",
            "Epoch 9/15\n",
            "34/34 [==============================] - 0s 5ms/step - loss: 0.5763 - accuracy: 0.6112 - val_loss: 0.5742 - val_accuracy: 0.6184\n",
            "Epoch 10/15\n",
            "34/34 [==============================] - 0s 8ms/step - loss: 0.5696 - accuracy: 0.6374 - val_loss: 0.5807 - val_accuracy: 0.5845\n",
            "Epoch 11/15\n",
            "34/34 [==============================] - 0s 6ms/step - loss: 0.5608 - accuracy: 0.6206 - val_loss: 0.5669 - val_accuracy: 0.6908\n",
            "Epoch 12/15\n",
            "34/34 [==============================] - 0s 9ms/step - loss: 0.5523 - accuracy: 0.6673 - val_loss: 0.5617 - val_accuracy: 0.6232\n",
            "Epoch 13/15\n",
            "34/34 [==============================] - 0s 7ms/step - loss: 0.5485 - accuracy: 0.6542 - val_loss: 0.5515 - val_accuracy: 0.6135\n",
            "Epoch 14/15\n",
            "34/34 [==============================] - 0s 6ms/step - loss: 0.5448 - accuracy: 0.6523 - val_loss: 0.5651 - val_accuracy: 0.7005\n",
            "Epoch 15/15\n",
            "34/34 [==============================] - 0s 6ms/step - loss: 0.5277 - accuracy: 0.6860 - val_loss: 0.5446 - val_accuracy: 0.6522\n"
          ]
        }
      ]
    },
    {
      "cell_type": "code",
      "source": [
        "results = model3.evaluate(X_val,y_val, verbose=1)\n",
        "\n",
        "for name, value in zip(model3.metrics_names, results):\n",
        "  print(\"%s: %.3f\" % (name, value))"
      ],
      "metadata": {
        "colab": {
          "base_uri": "https://localhost:8080/"
        },
        "outputId": "88f7d620-1187-4ad3-934b-bfa94dccc8a3",
        "id": "ukvHKW-Tc0zq"
      },
      "execution_count": 22,
      "outputs": [
        {
          "output_type": "stream",
          "name": "stdout",
          "text": [
            "1/1 [==============================] - 0s 27ms/step - loss: 0.5746 - accuracy: 0.6522\n",
            "loss: 0.575\n",
            "accuracy: 0.652\n"
          ]
        }
      ]
    },
    {
      "cell_type": "markdown",
      "source": [
        "## Use appropriate learning rate, activation, and loss functions and also mention the reason for choosing the same.\n",
        "\n",
        "*   Applied a learning rate of 0.03 (If the learning rate is high, then training may not converge or even diverge. Weight changes can be so big that the optimizer overshoots the minimum and makes the loss worse. So we have chosen 0.03 and compared accuracy performance. Furthermore very less learning rate takes longer time.)\n",
        "*   **ReLU activation function** is used for hidden layer since it is less susceptible to vanishing gradients that prevent deep models from being trained\n",
        "*   Since the given problem is logistic regression classification, we use a **Sigmoid function** in the output layer which takes a real value as input and outputs values in the range 0 to 1\n",
        "*   A **Binary Cross entropy loss function** is used since the class label is a  binary (0 or 1) classification\n",
        "\n",
        "\n",
        "## Report, compare, and explain the observed accuracy and minimum loss achieved.\n",
        "\n",
        "\n",
        "*   Loss achieved: 0.575\n",
        "*   Observed Accuracy: 0.652\n",
        "\n"
      ],
      "metadata": {
        "id": "zNu_P1bRkgFl"
      }
    },
    {
      "cell_type": "markdown",
      "source": [
        "## 16 hidden nodes"
      ],
      "metadata": {
        "id": "0ynYrhqxc7YV"
      }
    },
    {
      "cell_type": "code",
      "source": [
        "model4 = tf.keras.Sequential()\n",
        "\n",
        "model4.add(tf.keras.Input(shape=(2,)))\n",
        "model4.add(tf.keras.layers.Dense(16, activation='relu'))\n",
        "model4.add(tf.keras.layers.Dense(1, activation=\"sigmoid\"))\n",
        "\n",
        "model4.summary()"
      ],
      "metadata": {
        "colab": {
          "base_uri": "https://localhost:8080/"
        },
        "outputId": "3bb0f137-a616-4fe5-b2b5-88dbcaead4bf",
        "id": "rDR8TKvKc-BT"
      },
      "execution_count": 23,
      "outputs": [
        {
          "output_type": "stream",
          "name": "stdout",
          "text": [
            "Model: \"sequential_3\"\n",
            "_________________________________________________________________\n",
            " Layer (type)                Output Shape              Param #   \n",
            "=================================================================\n",
            " dense_6 (Dense)             (None, 16)                48        \n",
            "                                                                 \n",
            " dense_7 (Dense)             (None, 1)                 17        \n",
            "                                                                 \n",
            "=================================================================\n",
            "Total params: 65\n",
            "Trainable params: 65\n",
            "Non-trainable params: 0\n",
            "_________________________________________________________________\n"
          ]
        }
      ]
    },
    {
      "cell_type": "code",
      "source": [
        "# loss function\n",
        "loss_fn = tf.keras.losses.BinaryCrossentropy()\n",
        "\n",
        "# optimizer\n",
        "optimizer = tf.keras.optimizers.Adam(0.0003)\n",
        "model4.compile(optimizer=optimizer,\n",
        "              loss=loss_fn,\n",
        "              metrics=['accuracy'],\n",
        "              )"
      ],
      "metadata": {
        "id": "yGVBvvnEc-BV"
      },
      "execution_count": 24,
      "outputs": []
    },
    {
      "cell_type": "code",
      "source": [
        "history = model4.fit(X_train,y_train,batch_size=16,\n",
        "                epochs=15,\n",
        "                validation_data=(X_test,y_test),\n",
        "                verbose=True)"
      ],
      "metadata": {
        "colab": {
          "base_uri": "https://localhost:8080/"
        },
        "outputId": "84b9b432-1314-41d2-98ce-27890e384747",
        "id": "jfNVB2rOc-BV"
      },
      "execution_count": 25,
      "outputs": [
        {
          "output_type": "stream",
          "name": "stdout",
          "text": [
            "Epoch 1/15\n",
            "34/34 [==============================] - 2s 14ms/step - loss: 0.7649 - accuracy: 0.4467 - val_loss: 0.7748 - val_accuracy: 0.4010\n",
            "Epoch 2/15\n",
            "34/34 [==============================] - 0s 4ms/step - loss: 0.7553 - accuracy: 0.4505 - val_loss: 0.7657 - val_accuracy: 0.3623\n",
            "Epoch 3/15\n",
            "34/34 [==============================] - 0s 5ms/step - loss: 0.7471 - accuracy: 0.4505 - val_loss: 0.7578 - val_accuracy: 0.3720\n",
            "Epoch 4/15\n",
            "34/34 [==============================] - 0s 6ms/step - loss: 0.7395 - accuracy: 0.4579 - val_loss: 0.7512 - val_accuracy: 0.3913\n",
            "Epoch 5/15\n",
            "34/34 [==============================] - 0s 10ms/step - loss: 0.7331 - accuracy: 0.4505 - val_loss: 0.7448 - val_accuracy: 0.4010\n",
            "Epoch 6/15\n",
            "34/34 [==============================] - 0s 13ms/step - loss: 0.7274 - accuracy: 0.4748 - val_loss: 0.7397 - val_accuracy: 0.4106\n",
            "Epoch 7/15\n",
            "34/34 [==============================] - 0s 8ms/step - loss: 0.7220 - accuracy: 0.4692 - val_loss: 0.7348 - val_accuracy: 0.4155\n",
            "Epoch 8/15\n",
            "34/34 [==============================] - 0s 6ms/step - loss: 0.7173 - accuracy: 0.4841 - val_loss: 0.7302 - val_accuracy: 0.4058\n",
            "Epoch 9/15\n",
            "34/34 [==============================] - 0s 6ms/step - loss: 0.7129 - accuracy: 0.4860 - val_loss: 0.7261 - val_accuracy: 0.4155\n",
            "Epoch 10/15\n",
            "34/34 [==============================] - 0s 4ms/step - loss: 0.7091 - accuracy: 0.4972 - val_loss: 0.7228 - val_accuracy: 0.4203\n",
            "Epoch 11/15\n",
            "34/34 [==============================] - 0s 4ms/step - loss: 0.7056 - accuracy: 0.5047 - val_loss: 0.7201 - val_accuracy: 0.4493\n",
            "Epoch 12/15\n",
            "34/34 [==============================] - 0s 7ms/step - loss: 0.7026 - accuracy: 0.5140 - val_loss: 0.7171 - val_accuracy: 0.4589\n",
            "Epoch 13/15\n",
            "34/34 [==============================] - 0s 8ms/step - loss: 0.6997 - accuracy: 0.5271 - val_loss: 0.7144 - val_accuracy: 0.4831\n",
            "Epoch 14/15\n",
            "34/34 [==============================] - 0s 6ms/step - loss: 0.6971 - accuracy: 0.5308 - val_loss: 0.7117 - val_accuracy: 0.4928\n",
            "Epoch 15/15\n",
            "34/34 [==============================] - 0s 6ms/step - loss: 0.6948 - accuracy: 0.5458 - val_loss: 0.7096 - val_accuracy: 0.4976\n"
          ]
        }
      ]
    },
    {
      "cell_type": "code",
      "source": [
        "results = model4.evaluate(X_val,y_val, verbose=1)\n",
        "\n",
        "for name, value in zip(model4.metrics_names, results):\n",
        "  print(\"%s: %.3f\" % (name, value))"
      ],
      "metadata": {
        "colab": {
          "base_uri": "https://localhost:8080/"
        },
        "outputId": "47293e84-bdd6-40f7-f0dc-2ada2c38675a",
        "id": "BG31SY2Xc-BW"
      },
      "execution_count": 26,
      "outputs": [
        {
          "output_type": "stream",
          "name": "stdout",
          "text": [
            "1/1 [==============================] - 0s 52ms/step - loss: 0.6937 - accuracy: 0.5652\n",
            "loss: 0.694\n",
            "accuracy: 0.565\n"
          ]
        }
      ]
    },
    {
      "cell_type": "markdown",
      "source": [
        "## Use appropriate learning rate, activation, and loss functions and also mention the reason for choosing the same.\n",
        "\n",
        "*   Applied a learning rate of 0.0003 (If the learning rate is high, then training may not converge or even diverge. Weight changes can be so big that the optimizer overshoots the minimum and makes the loss worse. So we have chosen between 0.001 and 0.01 and compared their accuracy performance. Furthermore very less learning rate takes longer time.)\n",
        "*   **ReLU activation function** is used for hidden layer since it is less susceptible to vanishing gradients that prevent deep models from being trained\n",
        "*   Since the given problem is logistic regression classification, we use a **Sigmoid function** in the output layer which takes a real value as input and outputs values in the range 0 to 1\n",
        "*   A **Binary Cross entropy loss function** is used since the class label is a  binary (0 or 1) classification\n",
        "\n",
        "\n",
        "## Report, compare, and explain the observed accuracy and minimum loss achieved.\n",
        "\n",
        "\n",
        "*   Loss achieved: 0.694\n",
        "*   Observed Accuracy: 0.565\n",
        "\n"
      ],
      "metadata": {
        "id": "P1pWoNMPk1cz"
      }
    },
    {
      "cell_type": "code",
      "source": [
        "# Comparison of Single hidden layer with varying hidden nodes\n",
        "\n",
        "print(\"4 Hidden nodes\")\n",
        "results = model1.evaluate(X_val,y_val, verbose=0)\n",
        "for name1, value1 in zip(model1.metrics_names, results):\n",
        "  print(\"%s: %.3f\" % (name1, value1))\n",
        "\n",
        "print(\"\\n8 Hidden nodes\")\n",
        "results = model2.evaluate(X_val,y_val, verbose=0)\n",
        "for name2, value2 in zip(model2.metrics_names, results):\n",
        "  print(\"%s: %.3f\" % (name2, value2))\n",
        "\n",
        "print(\"\\n12 Hidden nodes\")\n",
        "results = model3.evaluate(X_val,y_val, verbose=0)\n",
        "for name3, value3 in zip(model3.metrics_names, results):\n",
        "  print(\"%s: %.3f\" % (name3, value3))\n",
        "\n",
        "print(\"\\n16 Hidden nodes\")\n",
        "results = model4.evaluate(X_val,y_val, verbose=0)\n",
        "for name4, value4 in zip(model4.metrics_names, results):\n",
        "  print(\"%s: %.3f\" % (name4, value4))"
      ],
      "metadata": {
        "colab": {
          "base_uri": "https://localhost:8080/"
        },
        "id": "wxcuudVWwp3w",
        "outputId": "16c22811-198a-48e7-8469-e806833ab388"
      },
      "execution_count": 27,
      "outputs": [
        {
          "output_type": "stream",
          "name": "stdout",
          "text": [
            "4 Hidden nodes\n",
            "loss: 0.687\n",
            "accuracy: 0.522\n",
            "\n",
            "8 Hidden nodes\n",
            "loss: 0.682\n",
            "accuracy: 0.522\n",
            "\n",
            "12 Hidden nodes\n",
            "loss: 0.575\n",
            "accuracy: 0.652\n",
            "\n",
            "16 Hidden nodes\n",
            "loss: 0.694\n",
            "accuracy: 0.565\n"
          ]
        }
      ]
    },
    {
      "cell_type": "markdown",
      "source": [
        "# Double Hidden Layer Deep network\n",
        "\n",
        "---"
      ],
      "metadata": {
        "id": "DW_hxiwdeFi0"
      }
    },
    {
      "cell_type": "markdown",
      "source": [
        "## 4 hidden nodes in each layer"
      ],
      "metadata": {
        "id": "mLcWeO6Tjmu0"
      }
    },
    {
      "cell_type": "code",
      "source": [
        "model_1 = tf.keras.Sequential()\n",
        "\n",
        "model_1.add(tf.keras.Input(shape=(2,)))\n",
        "model_1.add(tf.keras.layers.Dense(4, activation='relu'))\n",
        "model_1.add(tf.keras.layers.Dense(4, activation='relu'))\n",
        "model_1.add(tf.keras.layers.Dense(1, activation=\"sigmoid\"))\n",
        "\n",
        "model_1.summary()"
      ],
      "metadata": {
        "colab": {
          "base_uri": "https://localhost:8080/"
        },
        "outputId": "962c9972-61a6-4291-fed2-8c4fa368a821",
        "id": "DZvr1MERjyQc"
      },
      "execution_count": 28,
      "outputs": [
        {
          "output_type": "stream",
          "name": "stdout",
          "text": [
            "Model: \"sequential_4\"\n",
            "_________________________________________________________________\n",
            " Layer (type)                Output Shape              Param #   \n",
            "=================================================================\n",
            " dense_8 (Dense)             (None, 4)                 12        \n",
            "                                                                 \n",
            " dense_9 (Dense)             (None, 4)                 20        \n",
            "                                                                 \n",
            " dense_10 (Dense)            (None, 1)                 5         \n",
            "                                                                 \n",
            "=================================================================\n",
            "Total params: 37\n",
            "Trainable params: 37\n",
            "Non-trainable params: 0\n",
            "_________________________________________________________________\n"
          ]
        }
      ]
    },
    {
      "cell_type": "code",
      "source": [
        "# loss function\n",
        "loss_fn = tf.keras.losses.BinaryCrossentropy()\n",
        "\n",
        "# optimizer\n",
        "optimizer = tf.keras.optimizers.Adam(0.0003)\n",
        "model_1.compile(optimizer=optimizer,\n",
        "              loss=loss_fn,\n",
        "              metrics=['accuracy'],\n",
        "              )"
      ],
      "metadata": {
        "id": "7yJFuzQfjyQd"
      },
      "execution_count": 29,
      "outputs": []
    },
    {
      "cell_type": "code",
      "source": [
        "history = model_1.fit(X_train,y_train,batch_size=16,\n",
        "                epochs=15,\n",
        "                validation_data=(X_test,y_test),\n",
        "                verbose=True)"
      ],
      "metadata": {
        "colab": {
          "base_uri": "https://localhost:8080/"
        },
        "outputId": "e2522bcd-749e-423c-d63d-936a814854c6",
        "id": "p8r4VOG1jyQe"
      },
      "execution_count": 30,
      "outputs": [
        {
          "output_type": "stream",
          "name": "stdout",
          "text": [
            "Epoch 1/15\n",
            "34/34 [==============================] - 1s 7ms/step - loss: 0.7039 - accuracy: 0.4505 - val_loss: 0.7003 - val_accuracy: 0.5169\n",
            "Epoch 2/15\n",
            "34/34 [==============================] - 0s 3ms/step - loss: 0.7016 - accuracy: 0.4523 - val_loss: 0.6987 - val_accuracy: 0.5072\n",
            "Epoch 3/15\n",
            "34/34 [==============================] - 0s 3ms/step - loss: 0.6995 - accuracy: 0.4617 - val_loss: 0.6972 - val_accuracy: 0.4783\n",
            "Epoch 4/15\n",
            "34/34 [==============================] - 0s 3ms/step - loss: 0.6976 - accuracy: 0.4579 - val_loss: 0.6959 - val_accuracy: 0.4734\n",
            "Epoch 5/15\n",
            "34/34 [==============================] - 0s 3ms/step - loss: 0.6958 - accuracy: 0.4785 - val_loss: 0.6948 - val_accuracy: 0.4976\n",
            "Epoch 6/15\n",
            "34/34 [==============================] - 0s 3ms/step - loss: 0.6943 - accuracy: 0.4991 - val_loss: 0.6936 - val_accuracy: 0.4928\n",
            "Epoch 7/15\n",
            "34/34 [==============================] - 0s 3ms/step - loss: 0.6928 - accuracy: 0.5159 - val_loss: 0.6926 - val_accuracy: 0.5266\n",
            "Epoch 8/15\n",
            "34/34 [==============================] - 0s 3ms/step - loss: 0.6914 - accuracy: 0.5383 - val_loss: 0.6915 - val_accuracy: 0.5362\n",
            "Epoch 9/15\n",
            "34/34 [==============================] - 0s 3ms/step - loss: 0.6902 - accuracy: 0.5477 - val_loss: 0.6904 - val_accuracy: 0.5411\n",
            "Epoch 10/15\n",
            "34/34 [==============================] - 0s 3ms/step - loss: 0.6890 - accuracy: 0.5533 - val_loss: 0.6893 - val_accuracy: 0.5556\n",
            "Epoch 11/15\n",
            "34/34 [==============================] - 0s 3ms/step - loss: 0.6879 - accuracy: 0.5626 - val_loss: 0.6885 - val_accuracy: 0.5507\n",
            "Epoch 12/15\n",
            "34/34 [==============================] - 0s 3ms/step - loss: 0.6870 - accuracy: 0.5664 - val_loss: 0.6876 - val_accuracy: 0.5556\n",
            "Epoch 13/15\n",
            "34/34 [==============================] - 0s 3ms/step - loss: 0.6860 - accuracy: 0.5701 - val_loss: 0.6868 - val_accuracy: 0.5652\n",
            "Epoch 14/15\n",
            "34/34 [==============================] - 0s 3ms/step - loss: 0.6851 - accuracy: 0.5813 - val_loss: 0.6861 - val_accuracy: 0.5749\n",
            "Epoch 15/15\n",
            "34/34 [==============================] - 0s 3ms/step - loss: 0.6842 - accuracy: 0.5813 - val_loss: 0.6853 - val_accuracy: 0.5749\n"
          ]
        }
      ]
    },
    {
      "cell_type": "code",
      "source": [
        "results = model_1.evaluate(X_val,y_val, verbose=1)\n",
        "\n",
        "for name, value in zip(model_1.metrics_names, results):\n",
        "  print(\"%s: %.3f\" % (name, value))"
      ],
      "metadata": {
        "colab": {
          "base_uri": "https://localhost:8080/"
        },
        "outputId": "d8676530-d387-4648-e865-9d9494322247",
        "id": "V0b5wheXjyQe"
      },
      "execution_count": 31,
      "outputs": [
        {
          "output_type": "stream",
          "name": "stdout",
          "text": [
            "1/1 [==============================] - 0s 19ms/step - loss: 0.6942 - accuracy: 0.5217\n",
            "loss: 0.694\n",
            "accuracy: 0.522\n"
          ]
        }
      ]
    },
    {
      "cell_type": "markdown",
      "source": [
        "## Use appropriate learning rate, activation, and loss functions and also mention the reason for choosing the same.\n",
        "\n",
        "*   Applied a learning rate of 0.0003 (If the learning rate is high, then training may not converge or even diverge. Weight changes can be so big that the optimizer overshoots the minimum and makes the loss worse. So we have chosen between 0.001 and 0.01 and compared their accuracy performance. Furthermore very less learning rate takes longer time.)\n",
        "*   **ReLU activation function** is used for hidden layers since it is less susceptible to vanishing gradients that prevent deep models from being trained\n",
        "*   Since the given problem is logistic regression classification, we use a **Sigmoid function** in the output layer which takes a real value as input and outputs values in the range 0 to 1\n",
        "*   A **Binary Cross entropy loss function** is used since the class label is a  binary (0 or 1) classification\n",
        "\n",
        "\n",
        "## Report, compare, and explain the observed accuracy and minimum loss achieved.\n",
        "\n",
        "\n",
        "*   Loss achieved: 0.694\n",
        "*   Observed Accuracy: 0.522\n",
        "\n"
      ],
      "metadata": {
        "id": "pH3WBFGVqZBV"
      }
    },
    {
      "cell_type": "markdown",
      "source": [
        "## 8 hidden nodes in each layer"
      ],
      "metadata": {
        "id": "X9DvmD1jkI7b"
      }
    },
    {
      "cell_type": "code",
      "source": [
        "model_2 = tf.keras.Sequential()\n",
        "\n",
        "model_2.add(tf.keras.Input(shape=(2,)))\n",
        "model_2.add(tf.keras.layers.Dense(8, activation='relu'))\n",
        "model_2.add(tf.keras.layers.Dense(8, activation='relu'))\n",
        "model_2.add(tf.keras.layers.Dense(1, activation=\"sigmoid\"))\n",
        "\n",
        "model_2.summary()"
      ],
      "metadata": {
        "colab": {
          "base_uri": "https://localhost:8080/"
        },
        "outputId": "fc420376-8a2c-44d4-ae6d-8f41264d1161",
        "id": "m0jFtcG3Gv6d"
      },
      "execution_count": 32,
      "outputs": [
        {
          "output_type": "stream",
          "name": "stdout",
          "text": [
            "Model: \"sequential_5\"\n",
            "_________________________________________________________________\n",
            " Layer (type)                Output Shape              Param #   \n",
            "=================================================================\n",
            " dense_11 (Dense)            (None, 8)                 24        \n",
            "                                                                 \n",
            " dense_12 (Dense)            (None, 8)                 72        \n",
            "                                                                 \n",
            " dense_13 (Dense)            (None, 1)                 9         \n",
            "                                                                 \n",
            "=================================================================\n",
            "Total params: 105\n",
            "Trainable params: 105\n",
            "Non-trainable params: 0\n",
            "_________________________________________________________________\n"
          ]
        }
      ]
    },
    {
      "cell_type": "code",
      "source": [
        "# loss function\n",
        "loss_fn = tf.keras.losses.BinaryCrossentropy()\n",
        "\n",
        "# optimizer\n",
        "optimizer = tf.keras.optimizers.Adam(0.003)\n",
        "model_2.compile(optimizer=optimizer,\n",
        "              loss=loss_fn,\n",
        "              metrics=['accuracy'],\n",
        "              )"
      ],
      "metadata": {
        "id": "XxBMBtcBGv6f"
      },
      "execution_count": 33,
      "outputs": []
    },
    {
      "cell_type": "code",
      "source": [
        "history = model_2.fit(X_train,y_train,batch_size=16,\n",
        "                epochs=15,\n",
        "                validation_data=(X_test,y_test),\n",
        "                verbose=True)"
      ],
      "metadata": {
        "colab": {
          "base_uri": "https://localhost:8080/"
        },
        "outputId": "294474a2-72e5-4a30-ee72-a780fdac30f0",
        "id": "i4SFNHBrGv6f"
      },
      "execution_count": 34,
      "outputs": [
        {
          "output_type": "stream",
          "name": "stdout",
          "text": [
            "Epoch 1/15\n",
            "34/34 [==============================] - 1s 7ms/step - loss: 0.6710 - accuracy: 0.5832 - val_loss: 0.6720 - val_accuracy: 0.5749\n",
            "Epoch 2/15\n",
            "34/34 [==============================] - 0s 3ms/step - loss: 0.6620 - accuracy: 0.5832 - val_loss: 0.6684 - val_accuracy: 0.5749\n",
            "Epoch 3/15\n",
            "34/34 [==============================] - 0s 2ms/step - loss: 0.6592 - accuracy: 0.5832 - val_loss: 0.6657 - val_accuracy: 0.5749\n",
            "Epoch 4/15\n",
            "34/34 [==============================] - 0s 3ms/step - loss: 0.6563 - accuracy: 0.5832 - val_loss: 0.6658 - val_accuracy: 0.5749\n",
            "Epoch 5/15\n",
            "34/34 [==============================] - 0s 2ms/step - loss: 0.6531 - accuracy: 0.6000 - val_loss: 0.6588 - val_accuracy: 0.5990\n",
            "Epoch 6/15\n",
            "34/34 [==============================] - 0s 3ms/step - loss: 0.6514 - accuracy: 0.6000 - val_loss: 0.6604 - val_accuracy: 0.6184\n",
            "Epoch 7/15\n",
            "34/34 [==============================] - 0s 3ms/step - loss: 0.6465 - accuracy: 0.6206 - val_loss: 0.6548 - val_accuracy: 0.6232\n",
            "Epoch 8/15\n",
            "34/34 [==============================] - 0s 3ms/step - loss: 0.6432 - accuracy: 0.6280 - val_loss: 0.6525 - val_accuracy: 0.6473\n",
            "Epoch 9/15\n",
            "34/34 [==============================] - 0s 3ms/step - loss: 0.6409 - accuracy: 0.6224 - val_loss: 0.6501 - val_accuracy: 0.6377\n",
            "Epoch 10/15\n",
            "34/34 [==============================] - 0s 3ms/step - loss: 0.6373 - accuracy: 0.6299 - val_loss: 0.6465 - val_accuracy: 0.6329\n",
            "Epoch 11/15\n",
            "34/34 [==============================] - 0s 2ms/step - loss: 0.6347 - accuracy: 0.5963 - val_loss: 0.6462 - val_accuracy: 0.5797\n",
            "Epoch 12/15\n",
            "34/34 [==============================] - 0s 3ms/step - loss: 0.6311 - accuracy: 0.5850 - val_loss: 0.6412 - val_accuracy: 0.5797\n",
            "Epoch 13/15\n",
            "34/34 [==============================] - 0s 3ms/step - loss: 0.6276 - accuracy: 0.5607 - val_loss: 0.6401 - val_accuracy: 0.5314\n",
            "Epoch 14/15\n",
            "34/34 [==============================] - 0s 3ms/step - loss: 0.6253 - accuracy: 0.5589 - val_loss: 0.6362 - val_accuracy: 0.5217\n",
            "Epoch 15/15\n",
            "34/34 [==============================] - 0s 3ms/step - loss: 0.6183 - accuracy: 0.5495 - val_loss: 0.6306 - val_accuracy: 0.5217\n"
          ]
        }
      ]
    },
    {
      "cell_type": "code",
      "source": [
        "results = model_2.evaluate(X_val,y_val, verbose=1)\n",
        "\n",
        "for name, value in zip(model_2.metrics_names, results):\n",
        "  print(\"%s: %.3f\" % (name, value))"
      ],
      "metadata": {
        "colab": {
          "base_uri": "https://localhost:8080/"
        },
        "outputId": "b43b4600-21f1-4b53-fa21-395a27de1f56",
        "id": "IwHfSnKcGv6g"
      },
      "execution_count": 35,
      "outputs": [
        {
          "output_type": "stream",
          "name": "stdout",
          "text": [
            "1/1 [==============================] - 0s 23ms/step - loss: 0.6384 - accuracy: 0.5217\n",
            "loss: 0.638\n",
            "accuracy: 0.522\n"
          ]
        }
      ]
    },
    {
      "cell_type": "markdown",
      "source": [
        "## Use appropriate learning rate, activation, and loss functions and also mention the reason for choosing the same.\n",
        "\n",
        "*   Applied a learning rate of 0.003 (If the learning rate is high, then training may not converge or even diverge. Weight changes can be so big that the optimizer overshoots the minimum and makes the loss worse. So we have chosen between 0.001 and 0.01 and compared their accuracy performance. Furthermore very less learning rate takes longer time.)\n",
        "*   **ReLU activation function** is used for hidden layers since it is less susceptible to vanishing gradients that prevent deep models from being trained\n",
        "*   Since the given problem is logistic regression classification, we use a **Sigmoid function** in the output layer which takes a real value as input and outputs values in the range 0 to 1\n",
        "*   A **Binary Cross entropy loss function** is used since the class label is a  binary (0 or 1) classification\n",
        "\n",
        "\n",
        "## Report, compare, and explain the observed accuracy and minimum loss achieved.\n",
        "\n",
        "\n",
        "*   Loss achieved: 0.638\n",
        "*   Observed Accuracy: 0.522\n",
        "\n"
      ],
      "metadata": {
        "id": "_H_rMiACusEw"
      }
    },
    {
      "cell_type": "markdown",
      "source": [
        "## 12 hidden nodes in each layer"
      ],
      "metadata": {
        "id": "grNl6wTBG5wR"
      }
    },
    {
      "cell_type": "code",
      "source": [
        "model_3 = tf.keras.Sequential()\n",
        "\n",
        "model_3.add(tf.keras.Input(shape=(2,)))\n",
        "model_3.add(tf.keras.layers.Dense(12, activation='relu'))\n",
        "model_3.add(tf.keras.layers.Dense(12, activation='relu'))\n",
        "model_3.add(tf.keras.layers.Dense(1, activation=\"sigmoid\"))\n",
        "\n",
        "model_3.summary()"
      ],
      "metadata": {
        "colab": {
          "base_uri": "https://localhost:8080/"
        },
        "outputId": "03aa5742-e9fa-4102-eb66-4c3fe2bf89c4",
        "id": "6P0EBZQoG-uM"
      },
      "execution_count": 36,
      "outputs": [
        {
          "output_type": "stream",
          "name": "stdout",
          "text": [
            "Model: \"sequential_6\"\n",
            "_________________________________________________________________\n",
            " Layer (type)                Output Shape              Param #   \n",
            "=================================================================\n",
            " dense_14 (Dense)            (None, 12)                36        \n",
            "                                                                 \n",
            " dense_15 (Dense)            (None, 12)                156       \n",
            "                                                                 \n",
            " dense_16 (Dense)            (None, 1)                 13        \n",
            "                                                                 \n",
            "=================================================================\n",
            "Total params: 205\n",
            "Trainable params: 205\n",
            "Non-trainable params: 0\n",
            "_________________________________________________________________\n"
          ]
        }
      ]
    },
    {
      "cell_type": "code",
      "source": [
        "# loss function\n",
        "loss_fn = tf.keras.losses.BinaryCrossentropy()\n",
        "\n",
        "# optimizer\n",
        "optimizer = tf.keras.optimizers.Adam(0.0003)\n",
        "model_3.compile(optimizer=optimizer,\n",
        "              loss=loss_fn,\n",
        "              metrics=['accuracy'],\n",
        "              )"
      ],
      "metadata": {
        "id": "5x0tyzZsG-uN"
      },
      "execution_count": 37,
      "outputs": []
    },
    {
      "cell_type": "code",
      "source": [
        "history = model_3.fit(X_train,y_train,batch_size=16,\n",
        "                epochs=15,\n",
        "                validation_data=(X_test,y_test),\n",
        "                verbose=True)"
      ],
      "metadata": {
        "colab": {
          "base_uri": "https://localhost:8080/"
        },
        "outputId": "2ddb6520-161f-4abe-8399-aed0ca7efa90",
        "id": "sLrgsLIVG-uN"
      },
      "execution_count": 38,
      "outputs": [
        {
          "output_type": "stream",
          "name": "stdout",
          "text": [
            "Epoch 1/15\n",
            "34/34 [==============================] - 1s 7ms/step - loss: 0.7186 - accuracy: 0.4822 - val_loss: 0.7182 - val_accuracy: 0.4686\n",
            "Epoch 2/15\n",
            "34/34 [==============================] - 0s 3ms/step - loss: 0.7123 - accuracy: 0.4766 - val_loss: 0.7122 - val_accuracy: 0.4493\n",
            "Epoch 3/15\n",
            "34/34 [==============================] - 0s 3ms/step - loss: 0.7068 - accuracy: 0.4860 - val_loss: 0.7077 - val_accuracy: 0.4396\n",
            "Epoch 4/15\n",
            "34/34 [==============================] - 0s 3ms/step - loss: 0.7025 - accuracy: 0.4673 - val_loss: 0.7030 - val_accuracy: 0.4541\n",
            "Epoch 5/15\n",
            "34/34 [==============================] - 0s 3ms/step - loss: 0.6982 - accuracy: 0.4841 - val_loss: 0.6994 - val_accuracy: 0.4493\n",
            "Epoch 6/15\n",
            "34/34 [==============================] - 0s 3ms/step - loss: 0.6947 - accuracy: 0.5084 - val_loss: 0.6959 - val_accuracy: 0.4734\n",
            "Epoch 7/15\n",
            "34/34 [==============================] - 0s 4ms/step - loss: 0.6915 - accuracy: 0.5271 - val_loss: 0.6930 - val_accuracy: 0.5024\n",
            "Epoch 8/15\n",
            "34/34 [==============================] - 0s 3ms/step - loss: 0.6885 - accuracy: 0.5140 - val_loss: 0.6901 - val_accuracy: 0.5072\n",
            "Epoch 9/15\n",
            "34/34 [==============================] - 0s 3ms/step - loss: 0.6859 - accuracy: 0.5028 - val_loss: 0.6877 - val_accuracy: 0.5024\n",
            "Epoch 10/15\n",
            "34/34 [==============================] - 0s 3ms/step - loss: 0.6835 - accuracy: 0.5196 - val_loss: 0.6856 - val_accuracy: 0.5507\n",
            "Epoch 11/15\n",
            "34/34 [==============================] - 0s 3ms/step - loss: 0.6814 - accuracy: 0.5458 - val_loss: 0.6837 - val_accuracy: 0.5700\n",
            "Epoch 12/15\n",
            "34/34 [==============================] - 0s 3ms/step - loss: 0.6794 - accuracy: 0.5757 - val_loss: 0.6818 - val_accuracy: 0.5749\n",
            "Epoch 13/15\n",
            "34/34 [==============================] - 0s 3ms/step - loss: 0.6776 - accuracy: 0.5832 - val_loss: 0.6802 - val_accuracy: 0.5749\n",
            "Epoch 14/15\n",
            "34/34 [==============================] - 0s 3ms/step - loss: 0.6760 - accuracy: 0.5832 - val_loss: 0.6789 - val_accuracy: 0.5749\n",
            "Epoch 15/15\n",
            "34/34 [==============================] - 0s 3ms/step - loss: 0.6745 - accuracy: 0.5832 - val_loss: 0.6777 - val_accuracy: 0.5749\n"
          ]
        }
      ]
    },
    {
      "cell_type": "code",
      "source": [
        "results = model_3.evaluate(X_val,y_val, verbose=1)\n",
        "\n",
        "for name, value in zip(model_3.metrics_names, results):\n",
        "  print(\"%s: %.3f\" % (name, value))"
      ],
      "metadata": {
        "colab": {
          "base_uri": "https://localhost:8080/"
        },
        "outputId": "926c1711-8770-4f9e-e911-ec7b2f9bc5b2",
        "id": "Yeh8CVzgG-uO"
      },
      "execution_count": 39,
      "outputs": [
        {
          "output_type": "stream",
          "name": "stdout",
          "text": [
            "1/1 [==============================] - 0s 19ms/step - loss: 0.7035 - accuracy: 0.5217\n",
            "loss: 0.704\n",
            "accuracy: 0.522\n"
          ]
        }
      ]
    },
    {
      "cell_type": "markdown",
      "source": [
        "## Use appropriate learning rate, activation, and loss functions and also mention the reason for choosing the same.\n",
        "\n",
        "*   Applied a learning rate of 0.0003 (If the learning rate is high, then training may not converge or even diverge. Weight changes can be so big that the optimizer overshoots the minimum and makes the loss worse. So we have chosen between 0.001 and 0.01 and compared their accuracy performance. Furthermore very less learning rate takes longer time.)\n",
        "*   **ReLU activation function** is used for hidden layers since it is less susceptible to vanishing gradients that prevent deep models from being trained\n",
        "*   Since the given problem is logistic regression classification, we use a **Sigmoid function** in the output layer which takes a real value as input and outputs values in the range 0 to 1\n",
        "*   A **Binary Cross entropy loss function** is used since the class label is a  binary (0 or 1) classification\n",
        "\n",
        "\n",
        "## Report, compare, and explain the observed accuracy and minimum loss achieved.\n",
        "\n",
        "\n",
        "*   Loss achieved: 0.704\n",
        "*   Observed Accuracy: 0.522\n",
        "\n"
      ],
      "metadata": {
        "id": "OH997_Ewu0kK"
      }
    },
    {
      "cell_type": "markdown",
      "source": [
        "## 16 hidden nodes in each layer"
      ],
      "metadata": {
        "id": "MDXGg77DHJDY"
      }
    },
    {
      "cell_type": "code",
      "source": [
        "model_4 = tf.keras.Sequential()\n",
        "\n",
        "model_4.add(tf.keras.Input(shape=(2,)))\n",
        "model_4.add(tf.keras.layers.Dense(16, activation='relu'))\n",
        "model_4.add(tf.keras.layers.Dense(16, activation='relu'))\n",
        "model_4.add(tf.keras.layers.Dense(1, activation=\"sigmoid\"))\n",
        "\n",
        "model_4.summary()"
      ],
      "metadata": {
        "colab": {
          "base_uri": "https://localhost:8080/"
        },
        "outputId": "70185453-e8af-40e0-ee13-42100a78350a",
        "id": "9Vdf_9hvHMFD"
      },
      "execution_count": 40,
      "outputs": [
        {
          "output_type": "stream",
          "name": "stdout",
          "text": [
            "Model: \"sequential_7\"\n",
            "_________________________________________________________________\n",
            " Layer (type)                Output Shape              Param #   \n",
            "=================================================================\n",
            " dense_17 (Dense)            (None, 16)                48        \n",
            "                                                                 \n",
            " dense_18 (Dense)            (None, 16)                272       \n",
            "                                                                 \n",
            " dense_19 (Dense)            (None, 1)                 17        \n",
            "                                                                 \n",
            "=================================================================\n",
            "Total params: 337\n",
            "Trainable params: 337\n",
            "Non-trainable params: 0\n",
            "_________________________________________________________________\n"
          ]
        }
      ]
    },
    {
      "cell_type": "code",
      "source": [
        "# loss function\n",
        "loss_fn = tf.keras.losses.BinaryCrossentropy()\n",
        "\n",
        "# optimizer\n",
        "optimizer = tf.keras.optimizers.Adam(0.003)\n",
        "model_4.compile(optimizer=optimizer,\n",
        "              loss=loss_fn,\n",
        "              metrics=['accuracy'],\n",
        "              )"
      ],
      "metadata": {
        "id": "-XkXUVG5HMFE"
      },
      "execution_count": 41,
      "outputs": []
    },
    {
      "cell_type": "code",
      "source": [
        "history = model_4.fit(X_train,y_train,batch_size=16,\n",
        "                epochs=15,\n",
        "                validation_data=(X_test,y_test),\n",
        "                verbose=True)"
      ],
      "metadata": {
        "colab": {
          "base_uri": "https://localhost:8080/"
        },
        "outputId": "9e625f73-0430-4343-80fc-de531a803414",
        "id": "ARXcTnVjHMFF"
      },
      "execution_count": 42,
      "outputs": [
        {
          "output_type": "stream",
          "name": "stdout",
          "text": [
            "Epoch 1/15\n",
            "34/34 [==============================] - 1s 7ms/step - loss: 0.6912 - accuracy: 0.5196 - val_loss: 0.6783 - val_accuracy: 0.5749\n",
            "Epoch 2/15\n",
            "34/34 [==============================] - 0s 3ms/step - loss: 0.6644 - accuracy: 0.5832 - val_loss: 0.6715 - val_accuracy: 0.5749\n",
            "Epoch 3/15\n",
            "34/34 [==============================] - 0s 3ms/step - loss: 0.6583 - accuracy: 0.5832 - val_loss: 0.6669 - val_accuracy: 0.5749\n",
            "Epoch 4/15\n",
            "34/34 [==============================] - 0s 2ms/step - loss: 0.6524 - accuracy: 0.5832 - val_loss: 0.6598 - val_accuracy: 0.5749\n",
            "Epoch 5/15\n",
            "34/34 [==============================] - 0s 3ms/step - loss: 0.6488 - accuracy: 0.6056 - val_loss: 0.6567 - val_accuracy: 0.6087\n",
            "Epoch 6/15\n",
            "34/34 [==============================] - 0s 3ms/step - loss: 0.6449 - accuracy: 0.6187 - val_loss: 0.6496 - val_accuracy: 0.6087\n",
            "Epoch 7/15\n",
            "34/34 [==============================] - 0s 3ms/step - loss: 0.6422 - accuracy: 0.6262 - val_loss: 0.6479 - val_accuracy: 0.6280\n",
            "Epoch 8/15\n",
            "34/34 [==============================] - 0s 3ms/step - loss: 0.6382 - accuracy: 0.6000 - val_loss: 0.6437 - val_accuracy: 0.6087\n",
            "Epoch 9/15\n",
            "34/34 [==============================] - 0s 3ms/step - loss: 0.6350 - accuracy: 0.6093 - val_loss: 0.6394 - val_accuracy: 0.6039\n",
            "Epoch 10/15\n",
            "34/34 [==============================] - 0s 3ms/step - loss: 0.6310 - accuracy: 0.5794 - val_loss: 0.6349 - val_accuracy: 0.5749\n",
            "Epoch 11/15\n",
            "34/34 [==============================] - 0s 3ms/step - loss: 0.6264 - accuracy: 0.5477 - val_loss: 0.6299 - val_accuracy: 0.5362\n",
            "Epoch 12/15\n",
            "34/34 [==============================] - 0s 3ms/step - loss: 0.6195 - accuracy: 0.5495 - val_loss: 0.6212 - val_accuracy: 0.4928\n",
            "Epoch 13/15\n",
            "34/34 [==============================] - 0s 3ms/step - loss: 0.6110 - accuracy: 0.5290 - val_loss: 0.6115 - val_accuracy: 0.5507\n",
            "Epoch 14/15\n",
            "34/34 [==============================] - 0s 3ms/step - loss: 0.6015 - accuracy: 0.5271 - val_loss: 0.6003 - val_accuracy: 0.5845\n",
            "Epoch 15/15\n",
            "34/34 [==============================] - 0s 3ms/step - loss: 0.5879 - accuracy: 0.5514 - val_loss: 0.5863 - val_accuracy: 0.5990\n"
          ]
        }
      ]
    },
    {
      "cell_type": "code",
      "source": [
        "results = model_4.evaluate(X_val,y_val, verbose=1)\n",
        "\n",
        "for name, value in zip(model_4.metrics_names, results):\n",
        "  print(\"%s: %.3f\" % (name, value))"
      ],
      "metadata": {
        "colab": {
          "base_uri": "https://localhost:8080/"
        },
        "outputId": "88e16f8c-ea5f-4395-8ccd-622baede0d6f",
        "id": "_NhnR6sRHMFF"
      },
      "execution_count": 43,
      "outputs": [
        {
          "output_type": "stream",
          "name": "stdout",
          "text": [
            "1/1 [==============================] - 0s 20ms/step - loss: 0.6260 - accuracy: 0.5652\n",
            "loss: 0.626\n",
            "accuracy: 0.565\n"
          ]
        }
      ]
    },
    {
      "cell_type": "markdown",
      "source": [
        "## Use appropriate learning rate, activation, and loss functions and also mention the reason for choosing the same.\n",
        "\n",
        "*   Applied a learning rate of 0.003 (If the learning rate is high, then training may not converge or even diverge. Weight changes can be so big that the optimizer overshoots the minimum and makes the loss worse. So we have chosen between 0.001 and 0.01 and compared their accuracy performance. Furthermore very less learning rate takes longer time.)\n",
        "*   **ReLU activation function** is used for hidden layers since it is less susceptible to vanishing gradients that prevent deep models from being trained\n",
        "*   Since the given problem is logistic regression classification, we use a **Sigmoid function** in the output layer which takes a real value as input and outputs values in the range 0 to 1\n",
        "*   A **Binary Cross entropy loss function** is used since the class label is a  binary (0 or 1) classification\n",
        "\n",
        "\n",
        "## Report, compare, and explain the observed accuracy and minimum loss achieved.\n",
        "\n",
        "\n",
        "*   Loss achieved: 0.626\n",
        "*   Observed Accuracy: 0.565\n",
        "\n"
      ],
      "metadata": {
        "id": "JqdYHafWvrpp"
      }
    },
    {
      "cell_type": "code",
      "source": [
        "# Comparison of Single hidden layer with varying hidden nodes\n",
        "\n",
        "print(\"4 Hidden nodes\")\n",
        "results = model_1.evaluate(X_val,y_val, verbose=1)\n",
        "for name1, value1 in zip(model_1.metrics_names, results):\n",
        "  print(\"%s: %.3f\" % (name1, value1))\n",
        "\n",
        "print(\"\\n8 Hidden nodes\")\n",
        "results = model_2.evaluate(X_val,y_val, verbose=1)\n",
        "for name2, value2 in zip(model_2.metrics_names, results):\n",
        "  print(\"%s: %.3f\" % (name2, value2))\n",
        "\n",
        "print(\"\\n12 Hidden nodes\")\n",
        "results = model_3.evaluate(X_val,y_val, verbose=1)\n",
        "for name3, value3 in zip(model_3.metrics_names, results):\n",
        "  print(\"%s: %.3f\" % (name3, value3))\n",
        "\n",
        "print(\"\\n16 Hidden nodes\")\n",
        "results = model_4.evaluate(X_val,y_val, verbose=1)\n",
        "for name4, value4 in zip(model_4.metrics_names, results):\n",
        "  print(\"%s: %.3f\" % (name4, value4))"
      ],
      "metadata": {
        "id": "A2ai2A2TIDZp",
        "colab": {
          "base_uri": "https://localhost:8080/"
        },
        "outputId": "0cb24ac8-aba4-421f-b4c8-c11bc36c4357"
      },
      "execution_count": 44,
      "outputs": [
        {
          "output_type": "stream",
          "name": "stdout",
          "text": [
            "4 Hidden nodes\n",
            "1/1 [==============================] - 0s 31ms/step - loss: 0.6942 - accuracy: 0.5217\n",
            "loss: 0.694\n",
            "accuracy: 0.522\n",
            "\n",
            "8 Hidden nodes\n",
            "1/1 [==============================] - 0s 20ms/step - loss: 0.6384 - accuracy: 0.5217\n",
            "loss: 0.638\n",
            "accuracy: 0.522\n",
            "\n",
            "12 Hidden nodes\n",
            "1/1 [==============================] - 0s 19ms/step - loss: 0.7035 - accuracy: 0.5217\n",
            "loss: 0.704\n",
            "accuracy: 0.522\n",
            "\n",
            "16 Hidden nodes\n",
            "1/1 [==============================] - 0s 23ms/step - loss: 0.6260 - accuracy: 0.5652\n",
            "loss: 0.626\n",
            "accuracy: 0.565\n"
          ]
        }
      ]
    },
    {
      "cell_type": "markdown",
      "source": [
        "# 3. Visually observe the dataset and design an appropriate feature transformation (derived feature) such that after feature transformation, the dataset can be classified using a minimal network architecture (minimum number of parameters)."
      ],
      "metadata": {
        "id": "BOHFICzoyvV_"
      }
    },
    {
      "cell_type": "code",
      "source": [
        "df2=df\n",
        "df2"
      ],
      "metadata": {
        "colab": {
          "base_uri": "https://localhost:8080/",
          "height": 424
        },
        "outputId": "4b8e59ba-0a10-4388-a04f-6f3c151f32e0",
        "id": "mPriERbezQ0D"
      },
      "execution_count": 45,
      "outputs": [
        {
          "output_type": "execute_result",
          "data": {
            "text/html": [
              "\n",
              "  <div id=\"df-c0675d60-7ac9-4539-9ba0-05b5006ca427\">\n",
              "    <div class=\"colab-df-container\">\n",
              "      <div>\n",
              "<style scoped>\n",
              "    .dataframe tbody tr th:only-of-type {\n",
              "        vertical-align: middle;\n",
              "    }\n",
              "\n",
              "    .dataframe tbody tr th {\n",
              "        vertical-align: top;\n",
              "    }\n",
              "\n",
              "    .dataframe thead th {\n",
              "        text-align: right;\n",
              "    }\n",
              "</style>\n",
              "<table border=\"1\" class=\"dataframe\">\n",
              "  <thead>\n",
              "    <tr style=\"text-align: right;\">\n",
              "      <th></th>\n",
              "      <th>Feature_1</th>\n",
              "      <th>Feature_2</th>\n",
              "      <th>Class</th>\n",
              "    </tr>\n",
              "  </thead>\n",
              "  <tbody>\n",
              "    <tr>\n",
              "      <th>0</th>\n",
              "      <td>0.702478</td>\n",
              "      <td>0.127961</td>\n",
              "      <td>0</td>\n",
              "    </tr>\n",
              "    <tr>\n",
              "      <th>1</th>\n",
              "      <td>0.640130</td>\n",
              "      <td>-0.281620</td>\n",
              "      <td>0</td>\n",
              "    </tr>\n",
              "    <tr>\n",
              "      <th>2</th>\n",
              "      <td>-0.429982</td>\n",
              "      <td>-0.581259</td>\n",
              "      <td>0</td>\n",
              "    </tr>\n",
              "    <tr>\n",
              "      <th>3</th>\n",
              "      <td>0.046000</td>\n",
              "      <td>-0.181767</td>\n",
              "      <td>0</td>\n",
              "    </tr>\n",
              "    <tr>\n",
              "      <th>4</th>\n",
              "      <td>-0.149910</td>\n",
              "      <td>-0.645058</td>\n",
              "      <td>0</td>\n",
              "    </tr>\n",
              "    <tr>\n",
              "      <th>...</th>\n",
              "      <td>...</td>\n",
              "      <td>...</td>\n",
              "      <td>...</td>\n",
              "    </tr>\n",
              "    <tr>\n",
              "      <th>760</th>\n",
              "      <td>-0.474379</td>\n",
              "      <td>0.784835</td>\n",
              "      <td>1</td>\n",
              "    </tr>\n",
              "    <tr>\n",
              "      <th>761</th>\n",
              "      <td>0.745290</td>\n",
              "      <td>-0.210026</td>\n",
              "      <td>1</td>\n",
              "    </tr>\n",
              "    <tr>\n",
              "      <th>762</th>\n",
              "      <td>0.715742</td>\n",
              "      <td>-0.590735</td>\n",
              "      <td>1</td>\n",
              "    </tr>\n",
              "    <tr>\n",
              "      <th>763</th>\n",
              "      <td>-0.150463</td>\n",
              "      <td>0.850325</td>\n",
              "      <td>1</td>\n",
              "    </tr>\n",
              "    <tr>\n",
              "      <th>764</th>\n",
              "      <td>0.248667</td>\n",
              "      <td>0.218322</td>\n",
              "      <td>1</td>\n",
              "    </tr>\n",
              "  </tbody>\n",
              "</table>\n",
              "<p>765 rows × 3 columns</p>\n",
              "</div>\n",
              "      <button class=\"colab-df-convert\" onclick=\"convertToInteractive('df-c0675d60-7ac9-4539-9ba0-05b5006ca427')\"\n",
              "              title=\"Convert this dataframe to an interactive table.\"\n",
              "              style=\"display:none;\">\n",
              "        \n",
              "  <svg xmlns=\"http://www.w3.org/2000/svg\" height=\"24px\"viewBox=\"0 0 24 24\"\n",
              "       width=\"24px\">\n",
              "    <path d=\"M0 0h24v24H0V0z\" fill=\"none\"/>\n",
              "    <path d=\"M18.56 5.44l.94 2.06.94-2.06 2.06-.94-2.06-.94-.94-2.06-.94 2.06-2.06.94zm-11 1L8.5 8.5l.94-2.06 2.06-.94-2.06-.94L8.5 2.5l-.94 2.06-2.06.94zm10 10l.94 2.06.94-2.06 2.06-.94-2.06-.94-.94-2.06-.94 2.06-2.06.94z\"/><path d=\"M17.41 7.96l-1.37-1.37c-.4-.4-.92-.59-1.43-.59-.52 0-1.04.2-1.43.59L10.3 9.45l-7.72 7.72c-.78.78-.78 2.05 0 2.83L4 21.41c.39.39.9.59 1.41.59.51 0 1.02-.2 1.41-.59l7.78-7.78 2.81-2.81c.8-.78.8-2.07 0-2.86zM5.41 20L4 18.59l7.72-7.72 1.47 1.35L5.41 20z\"/>\n",
              "  </svg>\n",
              "      </button>\n",
              "      \n",
              "  <style>\n",
              "    .colab-df-container {\n",
              "      display:flex;\n",
              "      flex-wrap:wrap;\n",
              "      gap: 12px;\n",
              "    }\n",
              "\n",
              "    .colab-df-convert {\n",
              "      background-color: #E8F0FE;\n",
              "      border: none;\n",
              "      border-radius: 50%;\n",
              "      cursor: pointer;\n",
              "      display: none;\n",
              "      fill: #1967D2;\n",
              "      height: 32px;\n",
              "      padding: 0 0 0 0;\n",
              "      width: 32px;\n",
              "    }\n",
              "\n",
              "    .colab-df-convert:hover {\n",
              "      background-color: #E2EBFA;\n",
              "      box-shadow: 0px 1px 2px rgba(60, 64, 67, 0.3), 0px 1px 3px 1px rgba(60, 64, 67, 0.15);\n",
              "      fill: #174EA6;\n",
              "    }\n",
              "\n",
              "    [theme=dark] .colab-df-convert {\n",
              "      background-color: #3B4455;\n",
              "      fill: #D2E3FC;\n",
              "    }\n",
              "\n",
              "    [theme=dark] .colab-df-convert:hover {\n",
              "      background-color: #434B5C;\n",
              "      box-shadow: 0px 1px 3px 1px rgba(0, 0, 0, 0.15);\n",
              "      filter: drop-shadow(0px 1px 2px rgba(0, 0, 0, 0.3));\n",
              "      fill: #FFFFFF;\n",
              "    }\n",
              "  </style>\n",
              "\n",
              "      <script>\n",
              "        const buttonEl =\n",
              "          document.querySelector('#df-c0675d60-7ac9-4539-9ba0-05b5006ca427 button.colab-df-convert');\n",
              "        buttonEl.style.display =\n",
              "          google.colab.kernel.accessAllowed ? 'block' : 'none';\n",
              "\n",
              "        async function convertToInteractive(key) {\n",
              "          const element = document.querySelector('#df-c0675d60-7ac9-4539-9ba0-05b5006ca427');\n",
              "          const dataTable =\n",
              "            await google.colab.kernel.invokeFunction('convertToInteractive',\n",
              "                                                     [key], {});\n",
              "          if (!dataTable) return;\n",
              "\n",
              "          const docLinkHtml = 'Like what you see? Visit the ' +\n",
              "            '<a target=\"_blank\" href=https://colab.research.google.com/notebooks/data_table.ipynb>data table notebook</a>'\n",
              "            + ' to learn more about interactive tables.';\n",
              "          element.innerHTML = '';\n",
              "          dataTable['output_type'] = 'display_data';\n",
              "          await google.colab.output.renderOutput(dataTable, element);\n",
              "          const docLink = document.createElement('div');\n",
              "          docLink.innerHTML = docLinkHtml;\n",
              "          element.appendChild(docLink);\n",
              "        }\n",
              "      </script>\n",
              "    </div>\n",
              "  </div>\n",
              "  "
            ],
            "text/plain": [
              "     Feature_1  Feature_2  Class\n",
              "0     0.702478   0.127961      0\n",
              "1     0.640130  -0.281620      0\n",
              "2    -0.429982  -0.581259      0\n",
              "3     0.046000  -0.181767      0\n",
              "4    -0.149910  -0.645058      0\n",
              "..         ...        ...    ...\n",
              "760  -0.474379   0.784835      1\n",
              "761   0.745290  -0.210026      1\n",
              "762   0.715742  -0.590735      1\n",
              "763  -0.150463   0.850325      1\n",
              "764   0.248667   0.218322      1\n",
              "\n",
              "[765 rows x 3 columns]"
            ]
          },
          "metadata": {},
          "execution_count": 45
        }
      ]
    },
    {
      "cell_type": "code",
      "source": [
        "import seaborn as sns\n",
        "\n",
        "sns.pairplot(df, hue =\"Class\", palette ='coolwarm')"
      ],
      "metadata": {
        "colab": {
          "base_uri": "https://localhost:8080/",
          "height": 391
        },
        "id": "UUhnuAAsuNcg",
        "outputId": "9f4249a8-816c-40bd-9f90-1d7e1fb32350"
      },
      "execution_count": 46,
      "outputs": [
        {
          "output_type": "execute_result",
          "data": {
            "text/plain": [
              "<seaborn.axisgrid.PairGrid at 0x7fccdafca6d0>"
            ]
          },
          "metadata": {},
          "execution_count": 46
        },
        {
          "output_type": "display_data",
          "data": {
            "image/png": "[encoded data removed]",
            "text/plain": [
              "<Figure size 402.375x360 with 6 Axes>"
            ]
          },
          "metadata": {
            "needs_background": "light"
          }
        }
      ]
    },
    {
      "cell_type": "markdown",
      "source": [
        "*  Both the features are normally distributed in each class, therefore feature transformation is not necessary.\n",
        "\n"
      ],
      "metadata": {
        "id": "lU5j7vAM1Sdu"
      }
    },
    {
      "cell_type": "code",
      "source": [
        "df2.describe()"
      ],
      "metadata": {
        "colab": {
          "base_uri": "https://localhost:8080/",
          "height": 300
        },
        "id": "qcG8yLAhzXnz",
        "outputId": "df7d13f6-e8af-4eb2-827f-14b27317aaf4"
      },
      "execution_count": 47,
      "outputs": [
        {
          "output_type": "execute_result",
          "data": {
            "text/html": [
              "\n",
              "  <div id=\"df-727d1517-4d68-49ec-aaf9-5b98ec59c10c\">\n",
              "    <div class=\"colab-df-container\">\n",
              "      <div>\n",
              "<style scoped>\n",
              "    .dataframe tbody tr th:only-of-type {\n",
              "        vertical-align: middle;\n",
              "    }\n",
              "\n",
              "    .dataframe tbody tr th {\n",
              "        vertical-align: top;\n",
              "    }\n",
              "\n",
              "    .dataframe thead th {\n",
              "        text-align: right;\n",
              "    }\n",
              "</style>\n",
              "<table border=\"1\" class=\"dataframe\">\n",
              "  <thead>\n",
              "    <tr style=\"text-align: right;\">\n",
              "      <th></th>\n",
              "      <th>Feature_1</th>\n",
              "      <th>Feature_2</th>\n",
              "      <th>Class</th>\n",
              "    </tr>\n",
              "  </thead>\n",
              "  <tbody>\n",
              "    <tr>\n",
              "      <th>count</th>\n",
              "      <td>765.000000</td>\n",
              "      <td>765.000000</td>\n",
              "      <td>765.000000</td>\n",
              "    </tr>\n",
              "    <tr>\n",
              "      <th>mean</th>\n",
              "      <td>0.025033</td>\n",
              "      <td>-0.006364</td>\n",
              "      <td>0.579085</td>\n",
              "    </tr>\n",
              "    <tr>\n",
              "      <th>std</th>\n",
              "      <td>0.480400</td>\n",
              "      <td>0.499142</td>\n",
              "      <td>0.494029</td>\n",
              "    </tr>\n",
              "    <tr>\n",
              "      <th>min</th>\n",
              "      <td>-0.996726</td>\n",
              "      <td>-0.999604</td>\n",
              "      <td>0.000000</td>\n",
              "    </tr>\n",
              "    <tr>\n",
              "      <th>25%</th>\n",
              "      <td>-0.350203</td>\n",
              "      <td>-0.419548</td>\n",
              "      <td>0.000000</td>\n",
              "    </tr>\n",
              "    <tr>\n",
              "      <th>50%</th>\n",
              "      <td>0.029291</td>\n",
              "      <td>-0.006020</td>\n",
              "      <td>1.000000</td>\n",
              "    </tr>\n",
              "    <tr>\n",
              "      <th>75%</th>\n",
              "      <td>0.404412</td>\n",
              "      <td>0.382453</td>\n",
              "      <td>1.000000</td>\n",
              "    </tr>\n",
              "    <tr>\n",
              "      <th>max</th>\n",
              "      <td>0.953268</td>\n",
              "      <td>0.984892</td>\n",
              "      <td>1.000000</td>\n",
              "    </tr>\n",
              "  </tbody>\n",
              "</table>\n",
              "</div>\n",
              "      <button class=\"colab-df-convert\" onclick=\"convertToInteractive('df-727d1517-4d68-49ec-aaf9-5b98ec59c10c')\"\n",
              "              title=\"Convert this dataframe to an interactive table.\"\n",
              "              style=\"display:none;\">\n",
              "        \n",
              "  <svg xmlns=\"http://www.w3.org/2000/svg\" height=\"24px\"viewBox=\"0 0 24 24\"\n",
              "       width=\"24px\">\n",
              "    <path d=\"M0 0h24v24H0V0z\" fill=\"none\"/>\n",
              "    <path d=\"M18.56 5.44l.94 2.06.94-2.06 2.06-.94-2.06-.94-.94-2.06-.94 2.06-2.06.94zm-11 1L8.5 8.5l.94-2.06 2.06-.94-2.06-.94L8.5 2.5l-.94 2.06-2.06.94zm10 10l.94 2.06.94-2.06 2.06-.94-2.06-.94-.94-2.06-.94 2.06-2.06.94z\"/><path d=\"M17.41 7.96l-1.37-1.37c-.4-.4-.92-.59-1.43-.59-.52 0-1.04.2-1.43.59L10.3 9.45l-7.72 7.72c-.78.78-.78 2.05 0 2.83L4 21.41c.39.39.9.59 1.41.59.51 0 1.02-.2 1.41-.59l7.78-7.78 2.81-2.81c.8-.78.8-2.07 0-2.86zM5.41 20L4 18.59l7.72-7.72 1.47 1.35L5.41 20z\"/>\n",
              "  </svg>\n",
              "      </button>\n",
              "      \n",
              "  <style>\n",
              "    .colab-df-container {\n",
              "      display:flex;\n",
              "      flex-wrap:wrap;\n",
              "      gap: 12px;\n",
              "    }\n",
              "\n",
              "    .colab-df-convert {\n",
              "      background-color: #E8F0FE;\n",
              "      border: none;\n",
              "      border-radius: 50%;\n",
              "      cursor: pointer;\n",
              "      display: none;\n",
              "      fill: #1967D2;\n",
              "      height: 32px;\n",
              "      padding: 0 0 0 0;\n",
              "      width: 32px;\n",
              "    }\n",
              "\n",
              "    .colab-df-convert:hover {\n",
              "      background-color: #E2EBFA;\n",
              "      box-shadow: 0px 1px 2px rgba(60, 64, 67, 0.3), 0px 1px 3px 1px rgba(60, 64, 67, 0.15);\n",
              "      fill: #174EA6;\n",
              "    }\n",
              "\n",
              "    [theme=dark] .colab-df-convert {\n",
              "      background-color: #3B4455;\n",
              "      fill: #D2E3FC;\n",
              "    }\n",
              "\n",
              "    [theme=dark] .colab-df-convert:hover {\n",
              "      background-color: #434B5C;\n",
              "      box-shadow: 0px 1px 3px 1px rgba(0, 0, 0, 0.15);\n",
              "      filter: drop-shadow(0px 1px 2px rgba(0, 0, 0, 0.3));\n",
              "      fill: #FFFFFF;\n",
              "    }\n",
              "  </style>\n",
              "\n",
              "      <script>\n",
              "        const buttonEl =\n",
              "          document.querySelector('#df-727d1517-4d68-49ec-aaf9-5b98ec59c10c button.colab-df-convert');\n",
              "        buttonEl.style.display =\n",
              "          google.colab.kernel.accessAllowed ? 'block' : 'none';\n",
              "\n",
              "        async function convertToInteractive(key) {\n",
              "          const element = document.querySelector('#df-727d1517-4d68-49ec-aaf9-5b98ec59c10c');\n",
              "          const dataTable =\n",
              "            await google.colab.kernel.invokeFunction('convertToInteractive',\n",
              "                                                     [key], {});\n",
              "          if (!dataTable) return;\n",
              "\n",
              "          const docLinkHtml = 'Like what you see? Visit the ' +\n",
              "            '<a target=\"_blank\" href=https://colab.research.google.com/notebooks/data_table.ipynb>data table notebook</a>'\n",
              "            + ' to learn more about interactive tables.';\n",
              "          element.innerHTML = '';\n",
              "          dataTable['output_type'] = 'display_data';\n",
              "          await google.colab.output.renderOutput(dataTable, element);\n",
              "          const docLink = document.createElement('div');\n",
              "          docLink.innerHTML = docLinkHtml;\n",
              "          element.appendChild(docLink);\n",
              "        }\n",
              "      </script>\n",
              "    </div>\n",
              "  </div>\n",
              "  "
            ],
            "text/plain": [
              "        Feature_1   Feature_2       Class\n",
              "count  765.000000  765.000000  765.000000\n",
              "mean     0.025033   -0.006364    0.579085\n",
              "std      0.480400    0.499142    0.494029\n",
              "min     -0.996726   -0.999604    0.000000\n",
              "25%     -0.350203   -0.419548    0.000000\n",
              "50%      0.029291   -0.006020    1.000000\n",
              "75%      0.404412    0.382453    1.000000\n",
              "max      0.953268    0.984892    1.000000"
            ]
          },
          "metadata": {},
          "execution_count": 47
        }
      ]
    },
    {
      "cell_type": "code",
      "source": [
        "data=df2.values\n",
        "data"
      ],
      "metadata": {
        "colab": {
          "base_uri": "https://localhost:8080/"
        },
        "outputId": "2ef83ac9-212f-4c52-8466-79039ab388a9",
        "id": "0wyUJopKzQ0D"
      },
      "execution_count": 48,
      "outputs": [
        {
          "output_type": "execute_result",
          "data": {
            "text/plain": [
              "array([[ 0.70247802,  0.12796062,  0.        ],\n",
              "       [ 0.64013009, -0.28161997,  0.        ],\n",
              "       [-0.42998201, -0.58125879,  0.        ],\n",
              "       ...,\n",
              "       [ 0.71574244, -0.59073507,  1.        ],\n",
              "       [-0.15046301,  0.85032456,  1.        ],\n",
              "       [ 0.2486673 ,  0.21832184,  1.        ]])"
            ]
          },
          "metadata": {},
          "execution_count": 48
        }
      ]
    },
    {
      "cell_type": "code",
      "source": [
        "data_feat=data[:,0:2]\n",
        "data_feat"
      ],
      "metadata": {
        "colab": {
          "base_uri": "https://localhost:8080/"
        },
        "outputId": "6972fb09-6719-49a4-f3ea-999ed488fc8a",
        "id": "fKj4RTuazQ0E"
      },
      "execution_count": 49,
      "outputs": [
        {
          "output_type": "execute_result",
          "data": {
            "text/plain": [
              "array([[ 0.70247802,  0.12796062],\n",
              "       [ 0.64013009, -0.28161997],\n",
              "       [-0.42998201, -0.58125879],\n",
              "       ...,\n",
              "       [ 0.71574244, -0.59073507],\n",
              "       [-0.15046301,  0.85032456],\n",
              "       [ 0.2486673 ,  0.21832184]])"
            ]
          },
          "metadata": {},
          "execution_count": 49
        }
      ]
    },
    {
      "cell_type": "code",
      "source": [
        "min_max_scaler=preprocessing.MinMaxScaler()\n",
        "data_feat_new=min_max_scaler.fit_transform(data_feat)\n",
        "data_feat_new"
      ],
      "metadata": {
        "colab": {
          "base_uri": "https://localhost:8080/"
        },
        "id": "LMAOyQQrzu5T",
        "outputId": "3eb83bdf-937a-4cb3-c0b9-0937cd1b705a"
      },
      "execution_count": 50,
      "outputs": [
        {
          "output_type": "execute_result",
          "data": {
            "text/plain": [
              "array([[0.87138917, 0.56818683],\n",
              "       [0.83941579, 0.36179658],\n",
              "       [0.29063875, 0.21080669],\n",
              "       ...,\n",
              "       [0.87819146, 0.20603153],\n",
              "       [0.43398225, 0.93219059],\n",
              "       [0.63866505, 0.61372042]])"
            ]
          },
          "metadata": {},
          "execution_count": 50
        }
      ]
    },
    {
      "cell_type": "code",
      "source": [
        "print(\"Min: \", data_feat_new.min(), \", Max: \", data_feat_new.max())"
      ],
      "metadata": {
        "colab": {
          "base_uri": "https://localhost:8080/"
        },
        "id": "MMBn9XCU0azN",
        "outputId": "21d971a8-4b6b-4a08-b031-b44e13e843b6"
      },
      "execution_count": 51,
      "outputs": [
        {
          "output_type": "stream",
          "name": "stdout",
          "text": [
            "Min:  0.0 , Max:  1.0\n"
          ]
        }
      ]
    },
    {
      "cell_type": "code",
      "source": [
        "data_class=data[:,2]"
      ],
      "metadata": {
        "id": "fdRPAenZzQ0E"
      },
      "execution_count": 52,
      "outputs": []
    },
    {
      "cell_type": "code",
      "source": [
        "X_train, X_rest, y_train, y_rest = train_test_split(data_feat_new, data_class, test_size = 0.3, random_state = 70)"
      ],
      "metadata": {
        "id": "bXY4TJJQzQ0E"
      },
      "execution_count": 53,
      "outputs": []
    },
    {
      "cell_type": "code",
      "source": [
        "X_val, X_test, y_val, y_test = train_test_split(X_rest, y_rest, test_size = 0.9, random_state = 80)"
      ],
      "metadata": {
        "id": "6yctJH88zQ0E"
      },
      "execution_count": 54,
      "outputs": []
    },
    {
      "cell_type": "code",
      "source": [
        "print(\"X_train:\",X_train.shape, \",\" , \"X_val:\", X_val.shape, \",\" , \"X_test:\", X_test.shape)\n",
        "print(\"y_train:\",y_train.shape, \",\" , \"y_val:\", y_val.shape, \",\" , \"y_test:\", y_test.shape)"
      ],
      "metadata": {
        "colab": {
          "base_uri": "https://localhost:8080/"
        },
        "outputId": "22267c13-599b-4e68-fb55-1b0b85182611",
        "id": "PKHnHazMzQ0E"
      },
      "execution_count": 55,
      "outputs": [
        {
          "output_type": "stream",
          "name": "stdout",
          "text": [
            "X_train: (535, 2) , X_val: (23, 2) , X_test: (207, 2)\n",
            "y_train: (535,) , y_val: (23,) , y_test: (207,)\n"
          ]
        }
      ]
    },
    {
      "cell_type": "markdown",
      "source": [
        "## New network with minimum number of parameters"
      ],
      "metadata": {
        "id": "zN0aDV0r1UWz"
      }
    },
    {
      "cell_type": "code",
      "source": [
        "new_model = tf.keras.Sequential()\n",
        "new_model.add(tf.keras.Input(shape=(2,)))\n",
        "new_model.add(tf.keras.layers.Dense(12, activation='relu'))\n",
        "new_model.add(tf.keras.layers.Dense(1, activation=\"sigmoid\"))\n",
        "\n",
        "# loss function\n",
        "loss_fn = tf.keras.losses.BinaryCrossentropy()\n",
        "\n",
        "# optimizer\n",
        "optimizer = tf.keras.optimizers.Adam(0.0003)\n",
        "new_model.compile(optimizer=optimizer,\n",
        "                  loss=loss_fn,\n",
        "                  metrics=['accuracy'],\n",
        "                  )\n",
        "history = new_model.fit(X_train,y_train,batch_size=15,\n",
        "                epochs=15,\n",
        "                validation_data=(X_test,y_test),\n",
        "                verbose=False)\n",
        "results = new_model.evaluate(X_val,y_val, verbose=0)\n",
        "\n",
        "for name, value in zip(new_model.metrics_names, results):\n",
        "  print(\"%s: %.3f\" % (name, value))"
      ],
      "metadata": {
        "colab": {
          "base_uri": "https://localhost:8080/"
        },
        "id": "6_LL8xcOEF_5",
        "outputId": "506189da-e3b9-4a69-ec1f-6e48bd584184"
      },
      "execution_count": 56,
      "outputs": [
        {
          "output_type": "stream",
          "name": "stdout",
          "text": [
            "loss: 0.657\n",
            "accuracy: 0.609\n"
          ]
        }
      ]
    },
    {
      "cell_type": "code",
      "source": [
        "new_model.optimizer.get_config()"
      ],
      "metadata": {
        "colab": {
          "base_uri": "https://localhost:8080/"
        },
        "id": "a6PL9_fkvQTc",
        "outputId": "4d2f3cd8-5352-4b2b-c75c-f6ed03fd5460"
      },
      "execution_count": 57,
      "outputs": [
        {
          "output_type": "execute_result",
          "data": {
            "text/plain": [
              "{'amsgrad': False,\n",
              " 'beta_1': 0.9,\n",
              " 'beta_2': 0.999,\n",
              " 'decay': 0.0,\n",
              " 'epsilon': 1e-07,\n",
              " 'learning_rate': 0.0003,\n",
              " 'name': 'Adam'}"
            ]
          },
          "metadata": {},
          "execution_count": 57
        }
      ]
    },
    {
      "cell_type": "markdown",
      "source": [
        "After performing Feature transformation even with minimum parameters we are getting better accuracy and loss"
      ],
      "metadata": {
        "id": "euh8La9T0X8n"
      }
    }
  ]
}